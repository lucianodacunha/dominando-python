{
 "cells": [
  {
   "cell_type": "markdown",
   "id": "90a3a446",
   "metadata": {},
   "source": [
    "1. Inicializar um repositório Git em um diretório local e fazer o primeiro commit"
   ]
  },
  {
   "cell_type": "code",
   "execution_count": null,
   "id": "97adc6e2",
   "metadata": {
    "vscode": {
     "languageId": "shellscript"
    }
   },
   "outputs": [],
   "source": [
    "git init"
   ]
  },
  {
   "cell_type": "markdown",
   "id": "da0e009d",
   "metadata": {},
   "source": [
    "2. Criar um repositório no GitHub, conectar com o repositório local e fazer um \n",
    "push das alterações."
   ]
  },
  {
   "cell_type": "code",
   "execution_count": null,
   "id": "108a385e",
   "metadata": {
    "vscode": {
     "languageId": "shellscript"
    }
   },
   "outputs": [],
   "source": [
    "# Criar o repositório no Github e conectar\n",
    "git remote add github@github.com:user/projeto.git\n",
    "git pull"
   ]
  },
  {
   "cell_type": "markdown",
   "id": "9a37ede1",
   "metadata": {},
   "source": [
    "3. Clonar um repositório existente do GitHub."
   ]
  },
  {
   "cell_type": "code",
   "execution_count": null,
   "id": "9f8958b2",
   "metadata": {
    "vscode": {
     "languageId": "shellscript"
    }
   },
   "outputs": [],
   "source": [
    "git clone github@.com:user/projeto.git"
   ]
  },
  {
   "cell_type": "markdown",
   "id": "34d0eb43",
   "metadata": {},
   "source": [
    "4. Criar uma nova branch, adicionar um arquivo de texto e fazer o commit e push\n",
    "dessa branch."
   ]
  },
  {
   "cell_type": "code",
   "execution_count": null,
   "id": "429b79f1",
   "metadata": {
    "vscode": {
     "languageId": "shellscript"
    }
   },
   "outputs": [],
   "source": [
    "git checkout -b nova-branch\n",
    "touch arquivo.txt\n",
    "git add arquivo.txt\n",
    "git commit -m 'Novo arquivo adicionado'\n",
    "git push origin nova-branch"
   ]
  },
  {
   "cell_type": "markdown",
   "id": "ff9ecf14",
   "metadata": {},
   "source": [
    "5. Simular um conflito de merge com duas branches e resolvê-lo."
   ]
  },
  {
   "cell_type": "code",
   "execution_count": null,
   "id": "a8c42071",
   "metadata": {
    "vscode": {
     "languageId": "shellscript"
    }
   },
   "outputs": [],
   "source": [
    "# Criar e mudar para um novo um novo branch\n",
    "git checkout -b novo-branch\n",
    "\n",
    "# editar, salvar e sair do arquivo alvo\n",
    "nano arquivo.txt\n",
    "\n",
    "# voltar para o branch main\n",
    "git checkout main\n",
    "\n",
    "# editar, salvar e sair do arquivo alvo. \n",
    "# Edição deve ser na mesma linha do outro branch.\n",
    "nano arquivo.txt\n",
    "\n",
    "# adicionar, committar a alteração e mesclar as branches\n",
    "git add arquivo.txt\n",
    "git commit -m \"arquivo atualizado na main\"\n",
    "git merge novo-branch\n",
    "Mesclagem automática de arquivo.txt\n",
    "CONFLITO (conteúdo): conflito de mesclagem em arquivo.txt\n",
    "Automatic merge failed; fix conflicts and then commit the result.\n",
    "\n",
    "# de acordo com a mensagem, entrar no arquivo e editar manualmente,\n",
    "# resolvendo os conflitos.\n",
    "# Abaixo, exemplo de arquivo com conflito.\n",
    "nano arquivo.txt\n",
    "<<<<<<< HEAD\n",
    "Linha 1\n",
    "=======\n",
    "Linha 1\n",
    ">>>>>>> novo-brach\n",
    "Linha 2\n",
    "\n",
    "# Conflito resolvido, salve, feche o arquivo\n",
    "# Adicione e commite as alterações\n",
    "nano arquivo.txt\n",
    "Linha 1\n",
    "Linha 2\n",
    "\n",
    "git add arquivo.txt\n",
    "git commit -m \"Branches mesclados\"\n",
    "git log --oneline\n",
    "d36d9ba (HEAD -> main) Branches mesclados"
   ]
  },
  {
   "cell_type": "markdown",
   "id": "bb9b7791",
   "metadata": {},
   "source": [
    "6 - Crie um programa que irá solicitar o nome de 4 cidades que você gostaria\n",
    "    de conhecer. Depois imprima uma frase no seguinte formato:\n",
    "    Eu gostaria de visitar estas cidades: Amsterdam, Wellington, Machu Picchu,\n",
    "    Santiago."
   ]
  },
  {
   "cell_type": "code",
   "execution_count": null,
   "id": "39d3fd7d",
   "metadata": {},
   "outputs": [],
   "source": [
    "def ex_01() -> str:\n",
    "    cidades: set[str] = set()\n",
    "\n",
    "    while len(cidades) < 4:\n",
    "        cidades.add(input(\"Entre com o nome de uma cidade que deseja visitar: \"))\n",
    "\n",
    "    return f\"Eu gostaria de visitar as seguintes cidades: {' '.join(list(cidades))}\"\n",
    "\n",
    "\n",
    "print(ex_01())"
   ]
  },
  {
   "cell_type": "markdown",
   "id": "6c542178",
   "metadata": {},
   "source": [
    "7 - Tendo um CPF dentro de uma string no formato '12345678900', desenvolva\n",
    "    um programa para imprimir esse CPF no formato: '123.456.789-00'"
   ]
  },
  {
   "cell_type": "code",
   "execution_count": null,
   "id": "c631f3ab",
   "metadata": {},
   "outputs": [],
   "source": [
    "def ex_02() -> str:\n",
    "    cpf = \"12345678900\".rjust(11, \"0\")\n",
    "    return f\"CPF formatado: {cpf[:3]}.{cpf[3:6]}.{cpf[6:9]}-{cpf[9:]}\"\n",
    "\n",
    "\n",
    "print(ex_02())"
   ]
  },
  {
   "cell_type": "markdown",
   "id": "68c8fb33",
   "metadata": {},
   "source": [
    "8 - Entrar via teclado com um valor positivo qualquer.\n",
    "    Validar se o usuário está digitando um valor positivo.\n",
    "    Após a digitação, exibir a tabuada do valor solicitado, no intervalo de um\n",
    "    a dez."
   ]
  },
  {
   "cell_type": "code",
   "execution_count": null,
   "id": "d261ceb0",
   "metadata": {},
   "outputs": [],
   "source": [
    "def ex_03() -> str:\n",
    "    msge: str = \"\"\n",
    "    valor = int(input(\"Entre com um valor: \"))\n",
    "\n",
    "    while valor < 1:\n",
    "        valor = int(input(\"Enter com um valor positivo!: \"))\n",
    "\n",
    "    for _, operador in enumerate(range(11)):\n",
    "        msge += f\"{valor} X {operador} = {valor * operador}\\n\"\n",
    "\n",
    "    return msge\n",
    "\n",
    "\n",
    "print(ex_03())"
   ]
  },
  {
   "cell_type": "markdown",
   "id": "73adf1c3",
   "metadata": {},
   "source": [
    "9 - Armazenar dez números (usando entrada de dados - input) em uma lista.\n",
    "    Após a digitação dos valores, criar uma rotina para ler os valores e achar\n",
    "    e exibir o maior deles."
   ]
  },
  {
   "cell_type": "code",
   "execution_count": null,
   "id": "72cbc240",
   "metadata": {},
   "outputs": [],
   "source": [
    "def ex_04() -> str:\n",
    "    lista = list()\n",
    "\n",
    "    for i in range(10):\n",
    "        lista.append(int(input(\"Entre com um número: \")))\n",
    "\n",
    "    return f\"Maior número da lista: {max(lista)}\"\n",
    "\n",
    "\n",
    "print(ex_04())"
   ]
  },
  {
   "cell_type": "markdown",
   "id": "13117450",
   "metadata": {},
   "source": [
    "10 - Crie um programa para sanitizar uma lista contendo vários tipos de\n",
    "    objetos. A sanitização se dará através da remoção de strings vazias."
   ]
  },
  {
   "cell_type": "code",
   "execution_count": null,
   "id": "b3ee4172",
   "metadata": {},
   "outputs": [],
   "source": [
    "def ex_05() -> str:\n",
    "    lista = [\"\", -1, 3.14, \"Python\", 3j + 35, \"\", None, Exception(), 42, True, \"\"]\n",
    "\n",
    "    return \", \".join(map(str, filter(lambda x: x != \"\", lista)))\n",
    "\n",
    "\n",
    "print(ex_05())"
   ]
  },
  {
   "cell_type": "markdown",
   "id": "4a851f33",
   "metadata": {},
   "source": [
    "11 - Armazenar 5 números (usando entrada de dados) em uma lista.\n",
    "    Após a digitação, solicitar uma constante numérica que deverá alterar cada\n",
    "    elemento da lista através da multiplicação entre a constante e o próprio\n",
    "    elemento."
   ]
  },
  {
   "cell_type": "code",
   "execution_count": null,
   "id": "2e8a6937",
   "metadata": {},
   "outputs": [],
   "source": [
    "def ex_06() -> str:\n",
    "    numeros: list[int] = list()\n",
    "    resultado: list[int] = list()\n",
    "    constante: int = 0\n",
    "    quantidade = 5\n",
    "\n",
    "    for i in range(quantidade, 0, -1):\n",
    "        numeros.append(int(input(f\"Entre com um número (Faltam {i}): \")))\n",
    "\n",
    "    constante = int(input(\"Entre com uma constante numérica: \"))\n",
    "    resultado = list(map(lambda x: x * constante, numeros))\n",
    "    return f\"Resultado: {', '.join(map(str, resultado))}\"\n",
    "\n",
    "\n",
    "print(ex_06())"
   ]
  },
  {
   "cell_type": "markdown",
   "id": "91d7b20a",
   "metadata": {},
   "source": [
    "12 - Dadas essas duas listas:\n",
    "\n",
    "`list1 = [\"a\", \"b\", [\"c\", [\"d\", \"e\", [\"f\", \"g\"], \"k\"], \"l\"], \"m\", \"n\"]`\n",
    "\n",
    "`sub_list = [\"h\", \"i\", \"j\"]`\n",
    "    \n",
    "Crie um programa para alterar a list1 de forma a incorporar a sub_list para que o resultado seja este:\n",
    "    \n",
    "`['a', 'b', ['c', ['d', 'e', ['f', 'g', 'h', 'i', 'j'], 'k'], 'l'], 'm', 'n']`"
   ]
  },
  {
   "cell_type": "code",
   "execution_count": null,
   "id": "b20b8f6d",
   "metadata": {},
   "outputs": [],
   "source": [
    "def ex_07() -> str:\n",
    "    list1: list[str] = [\"a\", \"b\", [\"c\", [\"d\", \"e\", [\"f\", \"g\"], \"k\"], \"l\"], \"m\", \"n\"]\n",
    "    sub_list = [\"h\", \"i\", \"j\"]\n",
    "\n",
    "    list1[2][1][2].extend(sub_list)\n",
    "\n",
    "    return f\"[{', '.join(map(str, list1))}]\"\n",
    "\n",
    "\n",
    "print(ex_07())"
   ]
  },
  {
   "cell_type": "markdown",
   "id": "a72c458c",
   "metadata": {},
   "source": [
    "13 - Um palíndromo é uma palavra ou frase que é escrita da mesma forma de\n",
    "    trás para frente. Alguns exemplos são:\n",
    "    \"asa\", \"ama\", \"anotaram a data da maratona\", \"natan\", \"renner\",\n",
    "    \"a cara rajada da jararaca\"\n",
    "    Escreva um programa para detectar se uma determinada string é um palíndromo\n",
    "    ou não."
   ]
  },
  {
   "cell_type": "code",
   "execution_count": null,
   "id": "3302c4d1",
   "metadata": {},
   "outputs": [],
   "source": [
    "def ex_08() -> str:\n",
    "    lista: list[str] = [\n",
    "        \"asa\",\n",
    "        \"ama\",\n",
    "        \"anotaram a data da maratona\",\n",
    "        \"natan\",\n",
    "        \"renner\",\n",
    "        \"a cara rajada da jararaca\",\n",
    "    ]\n",
    "    resultado: str = \"\"\n",
    "\n",
    "    for p in lista:\n",
    "        status = \"é\" if p.replace(\" \", \"\") == p[::-1].replace(\" \", \"\") else \"não é\"\n",
    "        resultado += f\"{p} {status} palindromo\\n\"\n",
    "\n",
    "    return resultado\n",
    "\n",
    "\n",
    "print(ex_08())"
   ]
  }
 ],
 "metadata": {
  "language_info": {
   "name": "python"
  }
 },
 "nbformat": 4,
 "nbformat_minor": 5
}

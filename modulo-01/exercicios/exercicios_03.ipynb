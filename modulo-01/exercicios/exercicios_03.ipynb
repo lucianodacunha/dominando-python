{
 "cells": [
  {
   "cell_type": "markdown",
   "id": "90a3a446",
   "metadata": {},
   "source": [
    "1. Inicializar um repositório Git em um diretório local e fazer o primeiro commit"
   ]
  },
  {
   "cell_type": "code",
   "execution_count": null,
   "id": "97adc6e2",
   "metadata": {
    "vscode": {
     "languageId": "shellscript"
    }
   },
   "outputs": [],
   "source": [
    "git init"
   ]
  },
  {
   "cell_type": "markdown",
   "id": "da0e009d",
   "metadata": {},
   "source": [
    "2. Criar um repositório no GitHub, conectar com o repositório local e fazer um \n",
    "push das alterações."
   ]
  },
  {
   "cell_type": "code",
   "execution_count": null,
   "id": "108a385e",
   "metadata": {
    "vscode": {
     "languageId": "shellscript"
    }
   },
   "outputs": [],
   "source": [
    "# Criar o repositório no Github e conectar\n",
    "git remote add github@github.com:user/projeto.git\n",
    "git pull"
   ]
  },
  {
   "cell_type": "markdown",
   "id": "9a37ede1",
   "metadata": {},
   "source": [
    "3. Clonar um repositório existente do GitHub."
   ]
  },
  {
   "cell_type": "code",
   "execution_count": null,
   "id": "9f8958b2",
   "metadata": {
    "vscode": {
     "languageId": "shellscript"
    }
   },
   "outputs": [],
   "source": [
    "git clone github@.com:user/projeto.git"
   ]
  },
  {
   "cell_type": "markdown",
   "id": "34d0eb43",
   "metadata": {},
   "source": [
    "4. Criar uma nova branch, adicionar um arquivo de texto e fazer o commit e push\n",
    "dessa branch."
   ]
  },
  {
   "cell_type": "code",
   "execution_count": null,
   "id": "429b79f1",
   "metadata": {
    "vscode": {
     "languageId": "shellscript"
    }
   },
   "outputs": [],
   "source": [
    "git checkout -b nova-branch\n",
    "touch arquivo.txt\n",
    "git add arquivo.txt\n",
    "git commit -m 'Novo arquivo adicionado'\n",
    "git push origin nova-branch"
   ]
  },
  {
   "cell_type": "markdown",
   "id": "ff9ecf14",
   "metadata": {},
   "source": [
    "5. Simular um conflito de merge com duas branches e resolvê-lo."
   ]
  },
  {
   "cell_type": "code",
   "execution_count": null,
   "id": "a8c42071",
   "metadata": {
    "vscode": {
     "languageId": "shellscript"
    }
   },
   "outputs": [],
   "source": [
    "# Criar e mudar para um novo um novo branch\n",
    "git checkout -b novo-branch\n",
    "\n",
    "# editar, salvar e sair do arquivo alvo\n",
    "nano arquivo.txt\n",
    "\n",
    "# voltar para o branch main\n",
    "git checkout main\n",
    "\n",
    "# editar, salvar e sair do arquivo alvo. \n",
    "# Edição deve ser na mesma linha do outro branch.\n",
    "nano arquivo.txt\n",
    "\n",
    "# adicionar, committar a alteração e mesclar as branches\n",
    "git add arquivo.txt\n",
    "git commit -m \"arquivo atualizado na main\"\n",
    "git merge novo-branch\n",
    "Mesclagem automática de arquivo.txt\n",
    "CONFLITO (conteúdo): conflito de mesclagem em arquivo.txt\n",
    "Automatic merge failed; fix conflicts and then commit the result.\n",
    "\n",
    "# de acordo com a mensagem, entrar no arquivo e editar manualmente,\n",
    "# resolvendo os conflitos.\n",
    "# Abaixo, exemplo de arquivo com conflito.\n",
    "nano arquivo.txt\n",
    "<<<<<<< HEAD\n",
    "Linha 1\n",
    "=======\n",
    "Linha 1\n",
    ">>>>>>> novo-brach\n",
    "Linha 2\n",
    "\n",
    "# Conflito resolvido, salve, feche o arquivo\n",
    "# Adicione e commite as alterações\n",
    "nano arquivo.txt\n",
    "Linha 1\n",
    "Linha 2\n",
    "\n",
    "git add arquivo.txt\n",
    "git commit -m \"Branches mesclados\"\n",
    "git log --oneline\n",
    "d36d9ba (HEAD -> main) Branches mesclados"
   ]
  }
 ],
 "metadata": {
  "language_info": {
   "name": "python"
  }
 },
 "nbformat": 4,
 "nbformat_minor": 5
}

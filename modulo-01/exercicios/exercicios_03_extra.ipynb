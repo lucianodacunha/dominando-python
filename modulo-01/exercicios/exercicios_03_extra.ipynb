{
 "cells": [
  {
   "cell_type": "markdown",
   "id": "6791daef",
   "metadata": {},
   "source": [
    "1 - Crie um programa que irá solicitar o nome de 4 cidades que você gostaria\n",
    "    de conhecer. Depois imprima uma frase no seguinte formato:\n",
    "    Eu gostaria de visitar estas cidades: Amsterdam, Wellington, Machu Picchu,\n",
    "    Santiago."
   ]
  },
  {
   "cell_type": "code",
   "execution_count": null,
   "id": "76e0f973",
   "metadata": {},
   "outputs": [],
   "source": [
    "def ex_01() -> str:\n",
    "    cidades: set[str] = set()\n",
    "\n",
    "    while len(cidades) < 4:\n",
    "        cidades.add(input(\"Entre com o nome de uma cidade que deseja visitar: \"))\n",
    "\n",
    "    return f\"Eu gostaria de visitar as seguintes cidades: {' '.join(list(cidades))}\"\n",
    "\n",
    "\n",
    "print(ex_01())"
   ]
  },
  {
   "cell_type": "markdown",
   "id": "506bc3ae",
   "metadata": {
    "vscode": {
     "languageId": "plaintext"
    }
   },
   "source": [
    "2 - Tendo um CPF dentro de uma string no formato '12345678900', desenvolva\n",
    "    um programa para imprimir esse CPF no formato: '123.456.789-00'"
   ]
  },
  {
   "cell_type": "code",
   "execution_count": null,
   "id": "ad503d23",
   "metadata": {},
   "outputs": [],
   "source": [
    "def ex_02() -> str:\n",
    "    cpf = \"12345678900\".rjust(11, \"0\")\n",
    "    return f\"CPF formatado: {cpf[:3]}.{cpf[3:6]}.{cpf[6:9]}-{cpf[9:]}\"\n",
    "\n",
    "\n",
    "print(ex_02())"
   ]
  },
  {
   "cell_type": "markdown",
   "id": "634e0a12",
   "metadata": {
    "vscode": {
     "languageId": "plaintext"
    }
   },
   "source": [
    "3 - Entrar via teclado com um valor positivo qualquer.\n",
    "    Validar se o usuário está digitando um valor positivo.\n",
    "    Após a digitação, exibir a tabuada do valor solicitado, no intervalo de um\n",
    "    a dez."
   ]
  },
  {
   "cell_type": "code",
   "execution_count": null,
   "id": "c4c74b08",
   "metadata": {},
   "outputs": [],
   "source": [
    "def ex_03() -> str:\n",
    "    msge: str = \"\"\n",
    "    valor = int(input(\"Entre com um valor: \"))\n",
    "\n",
    "    while valor < 1:\n",
    "        valor = int(input(\"Enter com um valor positivo!: \"))\n",
    "\n",
    "    for _, operador in enumerate(range(11)):\n",
    "        msge += f\"{valor} X {operador} = {valor * operador}\\n\"\n",
    "\n",
    "    return msge\n",
    "\n",
    "\n",
    "print(ex_03())"
   ]
  },
  {
   "cell_type": "markdown",
   "id": "a9157899",
   "metadata": {},
   "source": [
    "4 - Armazenar dez números (usando entrada de dados - input) em uma lista.\n",
    "    Após a digitação dos valores, criar uma rotina para ler os valores e achar\n",
    "    e exibir o maior deles."
   ]
  },
  {
   "cell_type": "code",
   "execution_count": null,
   "id": "ed081735",
   "metadata": {},
   "outputs": [],
   "source": [
    "def ex_04() -> str:\n",
    "    lista = list()\n",
    "\n",
    "    for i in range(10):\n",
    "        lista.append(int(input(\"Entre com um número: \")))\n",
    "\n",
    "    return f\"Maior número da lista: {max(lista)}\"\n",
    "\n",
    "\n",
    "print(ex_04())"
   ]
  },
  {
   "cell_type": "markdown",
   "id": "67aefe8d",
   "metadata": {
    "vscode": {
     "languageId": "plaintext"
    }
   },
   "source": [
    "5 - Crie um programa para sanitizar uma lista contendo vários tipos de\n",
    "    objetos. A sanitização se dará através da remoção de strings vazias."
   ]
  },
  {
   "cell_type": "code",
   "execution_count": null,
   "id": "55f306ff",
   "metadata": {},
   "outputs": [],
   "source": [
    "def ex_05() -> str:\n",
    "    lista = [\"\", -1, 3.14, \"Python\", 3j + 35, \"\", None, Exception(), 42, True, \"\"]\n",
    "\n",
    "    return \", \".join(map(str, filter(lambda x: x != \"\", lista)))\n",
    "\n",
    "\n",
    "print(ex_05())"
   ]
  },
  {
   "cell_type": "markdown",
   "id": "2a60ab1a",
   "metadata": {
    "vscode": {
     "languageId": "plaintext"
    }
   },
   "source": [
    "6 - Armazenar 5 números (usando entrada de dados) em uma lista.\n",
    "    Após a digitação, solicitar uma constante numérica que deverá alterar cada\n",
    "    elemento da lista através da multiplicação entre a constante e o próprio\n",
    "    elemento."
   ]
  },
  {
   "cell_type": "code",
   "execution_count": null,
   "id": "6c798b86",
   "metadata": {},
   "outputs": [],
   "source": [
    "def ex_06() -> str:\n",
    "    numeros: list[int] = list()\n",
    "    resultado: list[int] = list()\n",
    "    constante: int = 0\n",
    "    quantidade = 5\n",
    "\n",
    "    for i in range(quantidade, 0, -1):\n",
    "        numeros.append(int(input(f\"Entre com um número (Faltam {i}): \")))\n",
    "\n",
    "    constante = int(input(\"Entre com uma constante numérica: \"))\n",
    "    resultado = list(map(lambda x: x * constante, numeros))\n",
    "    return f\"Resultado: {', '.join(map(str, resultado))}\"\n",
    "\n",
    "\n",
    "print(ex_06())"
   ]
  },
  {
   "cell_type": "markdown",
   "id": "84d3be44",
   "metadata": {},
   "source": [
    "7 - Dadas essas duas listas:\n",
    "\n",
    "`list1 = [\"a\", \"b\", [\"c\", [\"d\", \"e\", [\"f\", \"g\"], \"k\"], \"l\"], \"m\", \"n\"]`\n",
    "\n",
    "`sub_list = [\"h\", \"i\", \"j\"]`\n",
    "    \n",
    "Crie um programa para alterar a list1 de forma a incorporar a sub_list para que o resultado seja este:\n",
    "    \n",
    "`['a', 'b', ['c', ['d', 'e', ['f', 'g', 'h', 'i', 'j'], 'k'], 'l'], 'm', 'n']`"
   ]
  },
  {
   "cell_type": "code",
   "execution_count": null,
   "id": "3120a84e",
   "metadata": {},
   "outputs": [],
   "source": [
    "def ex_07() -> str:\n",
    "    list1: list[str] = [\"a\", \"b\", [\"c\", [\"d\", \"e\", [\"f\", \"g\"], \"k\"], \"l\"], \"m\", \"n\"]\n",
    "    sub_list = [\"h\", \"i\", \"j\"]\n",
    "\n",
    "    list1[2][1][2].extend(sub_list)\n",
    "\n",
    "    return f\"[{', '.join(map(str, list1))}]\"\n",
    "\n",
    "\n",
    "print(ex_07())"
   ]
  },
  {
   "cell_type": "markdown",
   "id": "00066078",
   "metadata": {
    "vscode": {
     "languageId": "plaintext"
    }
   },
   "source": [
    "8 - Um palíndromo é uma palavra ou frase que é escrita da mesma forma de\n",
    "    trás para frente. Alguns exemplos são:\n",
    "    \"asa\", \"ama\", \"anotaram a data da maratona\", \"natan\", \"renner\",\n",
    "    \"a cara rajada da jararaca\"\n",
    "    Escreva um programa para detectar se uma determinada string é um palíndromo\n",
    "    ou não."
   ]
  },
  {
   "cell_type": "code",
   "execution_count": null,
   "id": "e1b38c77",
   "metadata": {},
   "outputs": [],
   "source": [
    "def ex_08() -> str:\n",
    "    lista: list[str] = [\n",
    "        \"asa\",\n",
    "        \"ama\",\n",
    "        \"anotaram a data da maratona\",\n",
    "        \"natan\",\n",
    "        \"renner\",\n",
    "        \"a cara rajada da jararaca\",\n",
    "    ]\n",
    "    resultado: str = \"\"\n",
    "\n",
    "    for p in lista:\n",
    "        status = \"é\" if p.replace(\" \", \"\") == p[::-1].replace(\" \", \"\") else \"não é\"\n",
    "        resultado += f\"{p} {status} palindromo\\n\"\n",
    "\n",
    "    return resultado\n",
    "\n",
    "\n",
    "print(ex_08())"
   ]
  }
 ],
 "metadata": {
  "language_info": {
   "name": "python"
  }
 },
 "nbformat": 4,
 "nbformat_minor": 5
}

{
 "cells": [
  {
   "cell_type": "markdown",
   "id": "da0cd138",
   "metadata": {},
   "source": [
    "1. Criar três variáveis: nome (texto), idade (número) e altura (número decimal)\n",
    "capturadas pelo input(). Depois, imprimir essas informações formatadas."
   ]
  },
  {
   "cell_type": "code",
   "execution_count": null,
   "id": "3be8fb32",
   "metadata": {},
   "outputs": [],
   "source": [
    "nome = input(\"Informe seu nome: \")\n",
    "idade = int(input(\"Informe sua idade: \"))\n",
    "altura = float(input(\"Informe sua altura: \"))\n",
    "\n",
    "print(f\"Nome: {nome}\")\n",
    "print(f\"Idade: {idade}\")\n",
    "print(f\"Altura: {altura:.2f}\")"
   ]
  },
  {
   "cell_type": "markdown",
   "id": "adb7d525",
   "metadata": {},
   "source": [
    "2. Solicitar dois números, exibir a soma, subtração, multiplicação e divisão entre eles. (Não é necessário tratar erros por enquanto)"
   ]
  },
  {
   "cell_type": "code",
   "execution_count": null,
   "id": "9ea7afc9",
   "metadata": {},
   "outputs": [],
   "source": [
    "num1 = int(input(\"\\nInforme o primeiro número inteiro: \"))\n",
    "num2 = int(input(\"Informe o primeiro número inteiro: \"))\n",
    "\n",
    "print(f\"Soma: {num1} + {num2} = {num1 + num2}\")\n",
    "print(f\"Subtração: {num1} - {num2} = {num1 - num2}\")\n",
    "print(f\"Multiplicação: {num1} * {num2} = {num1 * num2}\")\n",
    "print(f\"Divisão: {num1} / {num2} = {num1 / num2}\")"
   ]
  },
  {
   "cell_type": "markdown",
   "id": "b1a4d180",
   "metadata": {},
   "source": [
    "3. Solicitar um número para exibir o dobro, o triplo e a raiz quadrada dele."
   ]
  },
  {
   "cell_type": "code",
   "execution_count": null,
   "id": "da16f453",
   "metadata": {},
   "outputs": [],
   "source": [
    "from math import sqrt\n",
    "\n",
    "num3 = int(input(\"\\nInforme um número: \"))\n",
    "\n",
    "print(f\"O dobro de {num3} é {num3 * 2}\")\n",
    "print(f\"O triplo de {num3} é {num3 * 3}\")\n",
    "print(f\"A raiz quadrada de {num3} é {sqrt(num3)}\")"
   ]
  },
  {
   "cell_type": "markdown",
   "id": "d106fa7a",
   "metadata": {},
   "source": [
    "4. Solicitar dois números e mostrar a média aritmética entre eles."
   ]
  },
  {
   "cell_type": "code",
   "execution_count": null,
   "id": "4436c7a1",
   "metadata": {},
   "outputs": [],
   "source": [
    "num4 = int(input(\"\\nEntre com um número: \"))\n",
    "num5 = int(input(\"Entre com outro número: \"))\n",
    "media = (num4 + num5) / 2\n",
    "\n",
    "print(f\"A média aritmética entre {num4} e {num5} é {media}\")"
   ]
  },
  {
   "cell_type": "markdown",
   "id": "53d3ef93",
   "metadata": {},
   "source": [
    "5. Solicitar a quantidade de quilômetros percorridos e o tempo gasto em minutos (distância / tempo)."
   ]
  },
  {
   "cell_type": "code",
   "execution_count": null,
   "id": "f4b71832",
   "metadata": {},
   "outputs": [],
   "source": [
    "kilometros = float(input(\"\\nEntre com a distância percorrida (km): \"))\n",
    "minutos = float(input(\"Entre com o tempo gasto (minutos): \"))\n",
    "\n",
    "horas = minutos / 60\n",
    "velocidade = kilometros / horas\n",
    "\n",
    "print(f\"A velocidade média é de {velocidade}\")"
   ]
  }
 ],
 "metadata": {
  "language_info": {
   "name": "python"
  }
 },
 "nbformat": 4,
 "nbformat_minor": 5
}

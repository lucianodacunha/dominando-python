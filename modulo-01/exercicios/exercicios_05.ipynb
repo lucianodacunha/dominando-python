{
 "cells": [
  {
   "cell_type": "markdown",
   "id": "1a99ae66",
   "metadata": {},
   "source": [
    "1. Criar uma lista de 5 números e exibir todos os elementos."
   ]
  },
  {
   "cell_type": "code",
   "execution_count": 1,
   "id": "ebbeb400",
   "metadata": {},
   "outputs": [
    {
     "name": "stdout",
     "output_type": "stream",
     "text": [
      "Lista: {1, 2, 3, 4, 5}\n"
     ]
    }
   ],
   "source": [
    "lista = {1, 2, 3, 4, 5}\n",
    "\n",
    "print(f\"Lista: {lista}\")"
   ]
  },
  {
   "cell_type": "markdown",
   "id": "7313526b",
   "metadata": {},
   "source": [
    "2. Criar um dicionário com informações de uma pessoa (nome, idade, profissão) e exibir uma das chaves."
   ]
  },
  {
   "cell_type": "code",
   "execution_count": 2,
   "id": "bf5d0e39",
   "metadata": {},
   "outputs": [
    {
     "name": "stdout",
     "output_type": "stream",
     "text": [
      "Informações de pessoa: {'nome': 'Adam', 'idade': 30, 'profissao': 'Dev'}\n"
     ]
    }
   ],
   "source": [
    "pessoa = {\n",
    "    \"nome\": \"Adam\",\n",
    "    \"idade\": 30,\n",
    "    \"profissao\": \"Dev\"\n",
    "}\n",
    "\n",
    "print(f\"Informações de pessoa: {pessoa}\")"
   ]
  },
  {
   "cell_type": "markdown",
   "id": "63d24bb4",
   "metadata": {},
   "source": [
    "3. Criar uma tupla com os meses do ano e mostrar o terceiro mês."
   ]
  },
  {
   "cell_type": "code",
   "execution_count": 3,
   "id": "fa1bc66b",
   "metadata": {},
   "outputs": [
    {
     "name": "stdout",
     "output_type": "stream",
     "text": [
      "Exibindo o terceiro mês da lista: março\n"
     ]
    }
   ],
   "source": [
    "meses = (\"janeiro\", \"fevereiro\", \"março\", \"abril\", \"maio\", \"junho\", \n",
    "         \"julho\", \"agosto\", \"setembro\", \"outubro\", \"novembro\", \"dezembro\")\n",
    "\n",
    "print(f\"Exibindo o terceiro mês da lista: {meses[2]}\")"
   ]
  },
  {
   "cell_type": "markdown",
   "id": "e16c97fd",
   "metadata": {},
   "source": [
    "4. Criar um set com 5 números e adicionar um novo número."
   ]
  },
  {
   "cell_type": "code",
   "execution_count": 4,
   "id": "779986ee",
   "metadata": {},
   "outputs": [
    {
     "name": "stdout",
     "output_type": "stream",
     "text": [
      "Conjunto: {1, 2, 3, 4, 5}\n",
      "Conjunto: {1, 2, 3, 4, 5, 6}\n"
     ]
    }
   ],
   "source": [
    "conjunto = {1, 2, 3, 4, 5,}\n",
    "print(f\"Conjunto: {conjunto}\")\n",
    "conjunto.add(6)\n",
    "print(f\"Conjunto: {conjunto}\")"
   ]
  },
  {
   "cell_type": "markdown",
   "id": "931fb274",
   "metadata": {},
   "source": [
    "5. Criar um programa que leia uma lista de 5 números e calcule a soma e a média deles."
   ]
  },
  {
   "cell_type": "code",
   "execution_count": null,
   "id": "ef22e3c1",
   "metadata": {},
   "outputs": [
    {
     "name": "stdout",
     "output_type": "stream",
     "text": [
      "Soma dos elementos: 161\n",
      "Media dos elementos: 32.2\n"
     ]
    }
   ],
   "source": [
    "lista = [1, 11, 21, 42, 86,]\n",
    "soma = sum(lista)\n",
    "media = soma / len(lista)\n",
    "\n",
    "print(f\"Soma dos elementos: {soma}\")\n",
    "print(f\"Media dos elementos: {media}\")"
   ]
  }
 ],
 "metadata": {
  "kernelspec": {
   "display_name": "venv",
   "language": "python",
   "name": "python3"
  },
  "language_info": {
   "codemirror_mode": {
    "name": "ipython",
    "version": 3
   },
   "file_extension": ".py",
   "mimetype": "text/x-python",
   "name": "python",
   "nbconvert_exporter": "python",
   "pygments_lexer": "ipython3",
   "version": "3.12.9"
  }
 },
 "nbformat": 4,
 "nbformat_minor": 5
}

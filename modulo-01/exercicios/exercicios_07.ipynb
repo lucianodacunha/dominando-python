{
 "cells": [
  {
   "cell_type": "markdown",
   "id": "2fc1fc5d",
   "metadata": {},
   "source": [
    "1. Criar uma classe abstrata InstrumentoMusical com o método abstrato \n",
    "tocar(), e herdar dela as classes Violao e Piano, implementando o método \n",
    "tocar() para cada um."
   ]
  },
  {
   "cell_type": "code",
   "execution_count": null,
   "id": "33cfb78a",
   "metadata": {},
   "outputs": [],
   "source": [
    "from abc import ABC, abstractmethod\n",
    "\n",
    "class InstrumentoMusical(ABC):\n",
    "    @abstractmethod\n",
    "    def tocar(self):\n",
    "        ...\n",
    "\n",
    "\n",
    "class Violao(InstrumentoMusical):\n",
    "    def tocar(self) -> None:\n",
    "        print(\"Violão tocando...\")\n",
    "\n",
    "\n",
    "class Piano(InstrumentoMusical):\n",
    "    def tocar(self) -> None:\n",
    "        print(\"Piano tocando...\")"
   ]
  },
  {
   "cell_type": "markdown",
   "id": "e0be63c7",
   "metadata": {},
   "source": [
    "2. Criar uma classe abstrata ContaBancaria com os atributos titular e saldo e \n",
    "o método abstrato sacar(valor). Criar as classes ContaCorrente e \n",
    "ContaPoupanca, cada uma com sua lógica específica de saque."
   ]
  },
  {
   "cell_type": "code",
   "execution_count": 2,
   "id": "074be6a1",
   "metadata": {},
   "outputs": [
    {
     "name": "stdout",
     "output_type": "stream",
     "text": [
      "Sacando R$ 100.0 de uma ContaCorrente\n",
      "Sacando R$ 100.0 de uma ContaPoupanca\n",
      "Saldo da conta corrente: 899.9\n",
      "Saldo da conta poupanca: 900.0\n"
     ]
    }
   ],
   "source": [
    "from abc import ABC, abstractmethod\n",
    "\n",
    "\n",
    "class ContaBancaria(ABC):\n",
    "    def __init__(self, titular: str, saldo: float) -> None:\n",
    "        self.titular = titular\n",
    "        self.saldo = saldo\n",
    "\n",
    "    @abstractmethod\n",
    "    def sacar(self, valor):\n",
    "        ...\n",
    "\n",
    "\n",
    "class ContaCorrente(ContaBancaria):\n",
    "    def sacar(self, valor) -> None:\n",
    "        print(f\"Sacando R$ {valor} de uma ContaCorrente\")\n",
    "        self.saldo -= (valor + 0.10)\n",
    "\n",
    "\n",
    "class ContaPoupanca(ContaBancaria):\n",
    "    def sacar(self, valor) -> None:\n",
    "        print(f\"Sacando R$ {valor} de uma ContaPoupanca\")\n",
    "        self.saldo -= valor\n",
    "\n",
    "\n",
    "corrente: ContaBancaria = ContaCorrente(\"Jao\", 1000.0)\n",
    "poupanca: ContaBancaria = ContaPoupanca(\"Ze\", 1000.0)\n",
    "\n",
    "corrente.sacar(100.0)\n",
    "poupanca.sacar(100.0)\n",
    "\n",
    "print(f\"Saldo da conta corrente: {corrente.saldo}\")\n",
    "print(f\"Saldo da conta poupanca: {poupanca.saldo}\")"
   ]
  },
  {
   "cell_type": "markdown",
   "id": "515f02a6",
   "metadata": {},
   "source": [
    "3. Criar uma classe abstrata Personagem com os métodos atacar() e \n",
    "defender(). Criar as subclasses Guerreiro, Mago e Arqueiro, \n",
    "implementando os métodos de forma polimórfica."
   ]
  },
  {
   "cell_type": "code",
   "execution_count": 4,
   "id": "97e9e6a9",
   "metadata": {},
   "outputs": [
    {
     "name": "stdout",
     "output_type": "stream",
     "text": [
      "Guerreiro atacando...\n",
      "Guerreiro defendendo...\n",
      "Mago atacando...\n",
      "Mago defendendo...\n",
      "Arqueiro atacando...\n",
      "Arqueiro defendendo...\n"
     ]
    }
   ],
   "source": [
    "from abc import ABC, abstractmethod\n",
    "\n",
    "\n",
    "class Personagem(ABC):\n",
    "    @abstractmethod\n",
    "    def atacar(self):\n",
    "        ...\n",
    "\n",
    "    @abstractmethod\n",
    "    def defender(self):\n",
    "        ...\n",
    "\n",
    "\n",
    "class Guerreiro(Personagem):\n",
    "    def atacar(self):\n",
    "        print(f\"Guerreiro atacando...\")\n",
    "\n",
    "    def defender(self):\n",
    "        print(f\"Guerreiro defendendo...\")\n",
    "\n",
    "\n",
    "class Mago(Personagem):\n",
    "    def atacar(self):\n",
    "        print(f\"Mago atacando...\")\n",
    "\n",
    "    def defender(self):\n",
    "        print(f\"Mago defendendo...\")\n",
    "\n",
    "\n",
    "class Arqueiro(Personagem):\n",
    "    def atacar(self):\n",
    "        print(f\"Arqueiro atacando...\")\n",
    "\n",
    "    def defender(self):\n",
    "        print(f\"Arqueiro defendendo...\")\n",
    "\n",
    "\n",
    "personagens: list[Personagem] = [Guerreiro(), Mago(), Arqueiro()]\n",
    "\n",
    "for personagem in personagens:\n",
    "    personagem.atacar()\n",
    "    personagem.defender()"
   ]
  },
  {
   "cell_type": "markdown",
   "id": "232b87ac",
   "metadata": {},
   "source": [
    "4. Criar as classes Artista e Professor, e herdar ambas em \n",
    "ArtistaProfessor, que combina os comportamentos com um método \n",
    "apresentar()."
   ]
  },
  {
   "cell_type": "code",
   "execution_count": 6,
   "id": "ac71acc4",
   "metadata": {},
   "outputs": [
    {
     "name": "stdout",
     "output_type": "stream",
     "text": [
      "Professor ensinando..\n",
      "Artista atuando..\n"
     ]
    }
   ],
   "source": [
    "from typing import Optional\n",
    "\n",
    "class Artista:\n",
    "    def atuar(self):\n",
    "        print(\"Artista atuando..\")\n",
    "\n",
    "\n",
    "class Professor:\n",
    "    def ensinar(self):\n",
    "        print(\"Professor ensinando..\")\n",
    "\n",
    "\n",
    "class ArtistaProfessor(Artista, Professor):\n",
    "    ...\n",
    "\n",
    "\n",
    "artista_professor = ArtistaProfessor()\n",
    "artista_professor.ensinar()\n",
    "artista_professor.atuar()"
   ]
  },
  {
   "cell_type": "markdown",
   "id": "c7296c3e",
   "metadata": {},
   "source": [
    "5. Implementar uma classe abstrata DispositivoEletronico com o método \n",
    "ligar() e herdar dela as classes Smartphone, Televisao e Notebook, \n",
    "sobrescrevendo o método para cada dispositivo."
   ]
  },
  {
   "cell_type": "code",
   "execution_count": 11,
   "id": "9cbc61bc",
   "metadata": {},
   "outputs": [
    {
     "name": "stdout",
     "output_type": "stream",
     "text": [
      "Smartphone ligando..\n",
      "Televisao ligando..\n",
      "Notebook ligando..\n"
     ]
    }
   ],
   "source": [
    "from abc import ABC, abstractmethod\n",
    "\n",
    "\n",
    "class DispositivoEletronico:\n",
    "    abstractmethod\n",
    "    def ligar(self):\n",
    "        ...\n",
    "\n",
    "\n",
    "class Smartphone(DispositivoEletronico):\n",
    "    def ligar(self):\n",
    "        print(\"Smartphone ligando..\")\n",
    "\n",
    "\n",
    "class Televisao(DispositivoEletronico):\n",
    "    def ligar(self):\n",
    "        print(\"Televisao ligando..\")\n",
    "\n",
    "\n",
    "class Notebook(DispositivoEletronico):\n",
    "    def ligar(self):\n",
    "        print(\"Notebook ligando..\")\n",
    "\n",
    "\n",
    "dispositivos_eletronicos: DispositivoEletronico = [\n",
    "    Smartphone(), Televisao(), Notebook()\n",
    "]\n",
    "\n",
    "for dispositivo in dispositivos_eletronicos:\n",
    "    dispositivo.ligar()"
   ]
  }
 ],
 "metadata": {
  "kernelspec": {
   "display_name": "venv",
   "language": "python",
   "name": "python3"
  },
  "language_info": {
   "codemirror_mode": {
    "name": "ipython",
    "version": 3
   },
   "file_extension": ".py",
   "mimetype": "text/x-python",
   "name": "python",
   "nbconvert_exporter": "python",
   "pygments_lexer": "ipython3",
   "version": "3.12.9"
  }
 },
 "nbformat": 4,
 "nbformat_minor": 5
}

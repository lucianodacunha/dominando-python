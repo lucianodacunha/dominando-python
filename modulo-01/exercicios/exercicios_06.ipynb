{
 "cells": [
  {
   "cell_type": "markdown",
   "id": "a8151686",
   "metadata": {},
   "source": [
    "1. Criar uma classe Carro com atributos marca, modelo, ano e um método \n",
    "info() que imprime essas informações."
   ]
  },
  {
   "cell_type": "code",
   "execution_count": 1,
   "id": "f5d132d2",
   "metadata": {},
   "outputs": [
    {
     "name": "stdout",
     "output_type": "stream",
     "text": [
      "Marca: BMW, Modelo: 306, Ano: 2018\n"
     ]
    }
   ],
   "source": [
    "class Carro:\n",
    "    def __init__(self, marca: str, modelo: str, ano: int) -> None:\n",
    "        self.marca = marca\n",
    "        self.modelo = modelo\n",
    "        self.ano = ano\n",
    "\n",
    "    def info(self) -> None:\n",
    "        print(f\"Marca: {self.marca}, Modelo: {self.modelo}, Ano: {self.ano}\")\n",
    "\n",
    "\n",
    "carro = Carro(\"BMW\", \"306\", 2018)\n",
    "carro.info()"
   ]
  },
  {
   "cell_type": "markdown",
   "id": "1c44d9d5",
   "metadata": {},
   "source": [
    "2. Criar uma classe Pessoa com atributos nome, idade e um método \n",
    "cumprimentar() que imprime uma saudação."
   ]
  },
  {
   "cell_type": "code",
   "execution_count": 4,
   "id": "8796eed8",
   "metadata": {},
   "outputs": [
    {
     "name": "stdout",
     "output_type": "stream",
     "text": [
      "Olá Brian, você tem 20 anos.\n"
     ]
    }
   ],
   "source": [
    "class Pessoa:\n",
    "    def __init__(self, nome: str, idade: int) -> None:\n",
    "        self.nome = nome\n",
    "        self.idade = idade\n",
    "\n",
    "    def cumprimentar(self) -> None:\n",
    "        print(f\"Olá {self.nome}, você tem {self.idade} anos.\")\n",
    "\n",
    "\n",
    "pessoa = Pessoa(\"Brian\", 20)\n",
    "pessoa.cumprimentar()"
   ]
  },
  {
   "cell_type": "markdown",
   "id": "115c2d36",
   "metadata": {},
   "source": [
    "3. Criar uma classe ContaBancaria com um atributo saldo e um método \n",
    "depositar(), que adiciona um valor ao saldo."
   ]
  },
  {
   "cell_type": "code",
   "execution_count": null,
   "id": "ba6d6b7a",
   "metadata": {},
   "outputs": [
    {
     "name": "stdout",
     "output_type": "stream",
     "text": [
      "Saldo: 100.0\n",
      "Saldo: 300.0\n"
     ]
    }
   ],
   "source": [
    "class ContaBancaria:\n",
    "    def __init__(self, saldo: float) -> None:\n",
    "        self.saldo = saldo\n",
    "\n",
    "    def depositar(self, valor: float) -> None:\n",
    "        self.saldo += valor\n",
    "\n",
    "    def extrato(self) -> None:\n",
    "        print(f\"Saldo: {self.saldo}\")\n",
    "\n",
    "\n",
    "conta = ContaBancaria(100.0)\n",
    "conta.extrato()\n",
    "\n",
    "conta.depositar(200)\n",
    "conta.extrato()"
   ]
  },
  {
   "cell_type": "markdown",
   "id": "373008e2",
   "metadata": {},
   "source": [
    "4. Criar um método de classe que conte quantas contas bancárias foram criadas e imprima esse número."
   ]
  },
  {
   "cell_type": "code",
   "execution_count": 7,
   "id": "268a751f",
   "metadata": {},
   "outputs": [
    {
     "name": "stdout",
     "output_type": "stream",
     "text": [
      "Quantidade de contas criadas: 3\n"
     ]
    }
   ],
   "source": [
    "class ContaBancaria:\n",
    "    quantidade: int = 0\n",
    "    def __init__(self, saldo: float) -> None:\n",
    "        self.saldo = saldo\n",
    "        ContaBancaria.quantidade += 1\n",
    "\n",
    "    def depositar(self, valor: float) -> None:\n",
    "        self.saldo += valor\n",
    "\n",
    "    def extrato(self) -> None:\n",
    "        print(f\"Saldo: {self.saldo}\")\n",
    "\n",
    "    @classmethod\n",
    "    def exibe_quantidade(cls) -> None:\n",
    "        print(f\"Quantidade de contas criadas: {cls.quantidade}\")\n",
    "\n",
    "\n",
    "conta1 = ContaBancaria(100.0)\n",
    "conta1 = ContaBancaria(140.0)\n",
    "conta1 = ContaBancaria(200.0)\n",
    "\n",
    "ContaBancaria.exibe_quantidade()"
   ]
  },
  {
   "cell_type": "markdown",
   "id": "8d294bed",
   "metadata": {},
   "source": [
    "5. Criar um método estático para calcular o imposto sobre o saldo de uma conta bancária, baseado em uma porcentagem."
   ]
  },
  {
   "cell_type": "code",
   "execution_count": 12,
   "id": "d94f3106",
   "metadata": {},
   "outputs": [
    {
     "name": "stdout",
     "output_type": "stream",
     "text": [
      "Conta 1, saldo: 100.00, valor do imposto: 10.00\n",
      "Conta 2, saldo: 300.00, valor do imposto: 30.00\n",
      "Conta 3, saldo: 500.00, valor do imposto: 50.00\n"
     ]
    }
   ],
   "source": [
    "class ContaBancaria:\n",
    "    quantidade: int = 0\n",
    "\n",
    "    def __init__(self, saldo: float) -> None:\n",
    "        self.saldo = saldo\n",
    "        ContaBancaria.quantidade += 1\n",
    "\n",
    "    def depositar(self, valor: float) -> None:\n",
    "        self.saldo += valor\n",
    "\n",
    "    def extrato(self) -> None:\n",
    "        print(f\"Saldo: {self.saldo}\")\n",
    "\n",
    "    @classmethod\n",
    "    def exibe_quantidade(cls) -> None:\n",
    "        print(f\"Quantidade de contas criadas: {cls.quantidade}\")\n",
    "\n",
    "\n",
    "class CalculadoraDeImpostos:\n",
    "    @staticmethod\n",
    "    def calcular_imposto(conta: ContaBancaria, percentual: float) -> float:\n",
    "        return conta.saldo * percentual\n",
    "\n",
    "\n",
    "conta1 = ContaBancaria(100)\n",
    "conta2 = ContaBancaria(300)\n",
    "conta3 = ContaBancaria(500)\n",
    "\n",
    "percentual_imposto = 0.10\n",
    "\n",
    "imposto1 = CalculadoraDeImpostos.calcular_imposto(conta1, percentual_imposto)\n",
    "imposto2 = CalculadoraDeImpostos.calcular_imposto(conta2, percentual_imposto)\n",
    "imposto3 = CalculadoraDeImpostos.calcular_imposto(conta3, percentual_imposto)\n",
    "\n",
    "print(f\"Conta 1, saldo: {conta1.saldo:.2f}, valor do imposto: {imposto1:.2f}\")\n",
    "print(f\"Conta 2, saldo: {conta2.saldo:.2f}, valor do imposto: {imposto2:.2f}\")\n",
    "print(f\"Conta 3, saldo: {conta3.saldo:.2f}, valor do imposto: {imposto3:.2f}\")"
   ]
  }
 ],
 "metadata": {
  "kernelspec": {
   "display_name": "venv",
   "language": "python",
   "name": "python3"
  },
  "language_info": {
   "codemirror_mode": {
    "name": "ipython",
    "version": 3
   },
   "file_extension": ".py",
   "mimetype": "text/x-python",
   "name": "python",
   "nbconvert_exporter": "python",
   "pygments_lexer": "ipython3",
   "version": "3.12.9"
  }
 },
 "nbformat": 4,
 "nbformat_minor": 5
}

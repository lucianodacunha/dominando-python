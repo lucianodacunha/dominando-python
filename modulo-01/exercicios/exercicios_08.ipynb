{
 "cells": [
  {
   "cell_type": "markdown",
   "id": "a4017961",
   "metadata": {},
   "source": [
    "1. Criar um programa que leia um número de um arquivo de texto e calcule sua raiz \n",
    "quadrada, tratando a exceção de número negativo."
   ]
  },
  {
   "cell_type": "code",
   "execution_count": null,
   "id": "3229e3d1",
   "metadata": {},
   "outputs": [
    {
     "name": "stdout",
     "output_type": "stream",
     "text": [
      "Raiz Quadra de 42 é 6.48074069840786\n",
      "\n",
      "Número menor que 0\n"
     ]
    }
   ],
   "source": [
    "import math\n",
    "\n",
    "class NumeroNegativoException(Exception):\n",
    "    ...\n",
    "\n",
    "try:\n",
    "    arquivo = open(r\"../exercicios/leitura.txt\", \"r\")\n",
    "\n",
    "    linha = arquivo.readline()\n",
    "    while linha:\n",
    "        numero = int(linha)\n",
    "        if int(numero) < 0:\n",
    "            raise NumeroNegativoException(\"Número menor que 0\")\n",
    "        print(f\"Raiz Quadra de {numero} é {math.sqrt(numero)}\\n\")\n",
    "        linha = arquivo.readline()\n",
    "except NumeroNegativoException as e:\n",
    "    print(f\"{e}\")\n",
    "finally:\n",
    "    arquivo.close()"
   ]
  },
  {
   "cell_type": "markdown",
   "id": "47e1ce0c",
   "metadata": {},
   "source": [
    "2. Criar uma função que divida dois números e escreva o resultado em um arquivo, \n",
    "tratando a exceção de divisão por zero."
   ]
  },
  {
   "cell_type": "code",
   "execution_count": null,
   "id": "4e174b6a",
   "metadata": {},
   "outputs": [],
   "source": [
    "try:\n",
    "    numero1 = int(input(\"Entre com um número: \"))\n",
    "    numero2 = int(input(\"Entre com um número: \"))\n",
    "    resultado = numero1 / numero2\n",
    "    linha = f\"{numero1} dividido por {numero2} = {resultado:.2f}\"\n",
    "    arquivo = open(\"../exercicios/escrita.txt\", \"w\")\n",
    "    arquivo.write(linha)\n",
    "except ZeroDivisionError as e:\n",
    "    print(f\"Exception {e}\\n\")\n",
    "except Exception as e:\n",
    "    print(f\"Exception {e}\\n\")\n",
    "finally:\n",
    "    arquivo.close()"
   ]
  },
  {
   "cell_type": "markdown",
   "id": "562c65aa",
   "metadata": {
    "vscode": {
     "languageId": "plaintext"
    }
   },
   "source": [
    "3. Criar um programa que leia o conteúdo de um arquivo e, se o arquivo não existir, \n",
    "mostre uma mensagem de erro personalizada."
   ]
  },
  {
   "cell_type": "code",
   "execution_count": 6,
   "id": "fafcd896",
   "metadata": {},
   "outputs": [
    {
     "name": "stdout",
     "output_type": "stream",
     "text": [
      "[Errno 2] No such file or directory: 'nao_existe.txt'\n"
     ]
    }
   ],
   "source": [
    "try:\n",
    "    arquivo = open(\"nao_existe.txt\", \"r\")    \n",
    "except FileNotFoundError as e:\n",
    "    print(f\"{e}\")\n",
    "finally:\n",
    "    arquivo.close()"
   ]
  },
  {
   "cell_type": "markdown",
   "id": "848e88ae",
   "metadata": {
    "vscode": {
     "languageId": "plaintext"
    }
   },
   "source": [
    "4. Criar um programa que abra um arquivo, leia seu conteúdo e, se ocorrer algum \n",
    "erro durante a leitura, mostre uma mensagem explicativa."
   ]
  },
  {
   "cell_type": "code",
   "execution_count": 4,
   "id": "2b27a571",
   "metadata": {},
   "outputs": [
    {
     "name": "stdout",
     "output_type": "stream",
     "text": [
      "Erro: not writable\n"
     ]
    }
   ],
   "source": [
    "try:\n",
    "    arquivo = open(\"../exercicios/leitura.txt\", \"r\")\n",
    "    arquivo.write(\"Hello\")    \n",
    "except Exception as e:\n",
    "    print(f\"Erro: {e}\")\n",
    "finally:\n",
    "    arquivo.close()"
   ]
  },
  {
   "cell_type": "markdown",
   "id": "214811a3",
   "metadata": {
    "vscode": {
     "languageId": "plaintext"
    }
   },
   "source": [
    "5. Criar uma exceção personalizada que lance um erro caso o arquivo esteja vazio \n",
    "e, se o erro ocorrer, mostre uma mensagem detalhada."
   ]
  },
  {
   "cell_type": "code",
   "execution_count": 8,
   "id": "0ee5910f",
   "metadata": {},
   "outputs": [
    {
     "name": "stdout",
     "output_type": "stream",
     "text": [
      "Erro: Arquivo vazio\n"
     ]
    }
   ],
   "source": [
    "class ArquivoVazioException(Exception):\n",
    "    ...\n",
    "\n",
    "\n",
    "try:\n",
    "    arquivo = open(\"vazio.txt\", \"r\")\n",
    "    if not arquivo.readline():\n",
    "        raise ArquivoVazioException(\"Arquivo vazio\")\n",
    "except ArquivoVazioException as e:\n",
    "    print(f\"Erro: {e}\")\n",
    "finally:\n",
    "    arquivo.close()\n",
    "\n"
   ]
  }
 ],
 "metadata": {
  "kernelspec": {
   "display_name": "venv",
   "language": "python",
   "name": "python3"
  },
  "language_info": {
   "codemirror_mode": {
    "name": "ipython",
    "version": 3
   },
   "file_extension": ".py",
   "mimetype": "text/x-python",
   "name": "python",
   "nbconvert_exporter": "python",
   "pygments_lexer": "ipython3",
   "version": "3.12.9"
  }
 },
 "nbformat": 4,
 "nbformat_minor": 5
}

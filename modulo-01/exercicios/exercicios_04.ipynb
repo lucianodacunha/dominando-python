{
 "cells": [
  {
   "cell_type": "markdown",
   "id": "14f9745c",
   "metadata": {},
   "source": [
    "1 - Criar um programa que mostre todos os números de 1 a 10 utilizando for."
   ]
  },
  {
   "cell_type": "code",
   "execution_count": 1,
   "id": "1409516f",
   "metadata": {},
   "outputs": [
    {
     "name": "stdout",
     "output_type": "stream",
     "text": [
      "1   2   3   4   5   6   7   8   9   10   "
     ]
    }
   ],
   "source": [
    "for numero in range(1, 11):\n",
    "    print(numero, end=\"   \")"
   ]
  },
  {
   "cell_type": "markdown",
   "id": "988d970b",
   "metadata": {},
   "source": [
    "2 - Solicitar ao usuário um número e mostrar sua tabuada de 1 a 10 utilizando for."
   ]
  },
  {
   "cell_type": "code",
   "execution_count": 7,
   "id": "efa693d6",
   "metadata": {},
   "outputs": [
    {
     "name": "stdout",
     "output_type": "stream",
     "text": [
      "3 x 1 = 3\n",
      "3 x 2 = 6\n",
      "3 x 3 = 9\n",
      "3 x 4 = 12\n",
      "3 x 5 = 15\n",
      "3 x 6 = 18\n",
      "3 x 7 = 21\n",
      "3 x 8 = 24\n",
      "3 x 9 = 27\n",
      "3 x 10 = 30\n"
     ]
    }
   ],
   "source": [
    "numero = int(input(\"Informe um número: \"))\n",
    "for i in range(1, 11):\n",
    "    print(f\"{numero} x {i} = {numero * i}\")"
   ]
  },
  {
   "cell_type": "markdown",
   "id": "bb94a34d",
   "metadata": {},
   "source": [
    "3 - Criar um programa que conte de 10 até 0 usando while."
   ]
  },
  {
   "cell_type": "code",
   "execution_count": null,
   "id": "22dc0923",
   "metadata": {},
   "outputs": [
    {
     "name": "stdout",
     "output_type": "stream",
     "text": [
      "10   9   8   7   6   5   4   3   2   1   0   "
     ]
    }
   ],
   "source": [
    "contador = 10\n",
    "while contador >= 0:\n",
    "    print(contador, end=\"   \")\n",
    "    contador -= 1"
   ]
  },
  {
   "cell_type": "markdown",
   "id": "59bbebb0",
   "metadata": {},
   "source": [
    "4 - Criar um programa que leia 10 números e calcule a soma deles, interrompendo o loop com break se o número for negativo."
   ]
  },
  {
   "cell_type": "code",
   "execution_count": 9,
   "id": "0a100284",
   "metadata": {},
   "outputs": [
    {
     "name": "stdout",
     "output_type": "stream",
     "text": [
      "Soma dos números informados: 29\n"
     ]
    }
   ],
   "source": [
    "soma = 0\n",
    "\n",
    "for i in range(1, 11):\n",
    "    numero = int(input(\"Informe um valor inteiro: \"))\n",
    "    if numero == -1:\n",
    "        break\n",
    "    soma += numero\n",
    "\n",
    "print(f\"Soma dos números informados: {soma}\")"
   ]
  },
  {
   "cell_type": "markdown",
   "id": "7e9ab0bb",
   "metadata": {},
   "source": [
    "5 - Pedir ao usuário um número e mostrar a sequência de Fibonacci até o número informado, utilizando while."
   ]
  },
  {
   "cell_type": "code",
   "execution_count": 16,
   "id": "1de49c8b",
   "metadata": {},
   "outputs": [
    {
     "name": "stdout",
     "output_type": "stream",
     "text": [
      "0 1 1 2 3 5 8 13 21 34 "
     ]
    }
   ],
   "source": [
    "numero = int(input(\"Informe um número: \"))\n",
    "indice = 1\n",
    "fibo_anter = 0\n",
    "fibo_atual = 1\n",
    "fibo_proxi = 0\n",
    "\n",
    "while indice <= numero:\n",
    "    if indice == 1:\n",
    "        print(fibo_anter, end=\" \")\n",
    "    elif indice == 2:\n",
    "        print(fibo_atual, end=\" \")\n",
    "    else:\n",
    "        fibo_proxi = fibo_anter + fibo_atual\n",
    "        print(fibo_proxi, end=\" \")\n",
    "        fibo_anter = fibo_atual\n",
    "        fibo_atual = fibo_proxi\n",
    "    indice += 1"
   ]
  }
 ],
 "metadata": {
  "kernelspec": {
   "display_name": "venv",
   "language": "python",
   "name": "python3"
  },
  "language_info": {
   "codemirror_mode": {
    "name": "ipython",
    "version": 3
   },
   "file_extension": ".py",
   "mimetype": "text/x-python",
   "name": "python",
   "nbconvert_exporter": "python",
   "pygments_lexer": "ipython3",
   "version": "3.12.9"
  }
 },
 "nbformat": 4,
 "nbformat_minor": 5
}

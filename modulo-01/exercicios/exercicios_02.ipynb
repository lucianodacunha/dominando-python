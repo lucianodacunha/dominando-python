{
 "cells": [
  {
   "cell_type": "markdown",
   "id": "d5386e64",
   "metadata": {},
   "source": [
    "1 - Solicitar dois números ao usuário e calcular a soma, subtração, multiplicação, divisão inteira e resto."
   ]
  },
  {
   "cell_type": "code",
   "execution_count": null,
   "id": "c88ae06e",
   "metadata": {},
   "outputs": [
    {
     "name": "stdout",
     "output_type": "stream",
     "text": [
      "Soma: 10 + 20 = 30\n",
      "Subtração: 10 - 20 = -10\n",
      "Multiplicação: 10 * 20 = 200\n",
      "Divisão: 10 / 20 = 0.5\n",
      "Resto: 10 % 20 = 10\n"
     ]
    }
   ],
   "source": [
    "def ex_01() -> str:\n",
    "    msge: str = \"\"\n",
    "    num1 = int(input(\"\\nInforme o primeiro número inteiro: \"))\n",
    "    num2 = int(input(\"Informe o primeiro número inteiro: \"))\n",
    "\n",
    "    msge += f\"Soma: {num1} + {num2} = {num1 + num2}\"\n",
    "    msge += f\"\\nSubtração: {num1} - {num2} = {num1 - num2}\"\n",
    "    msge += f\"\\nMultiplicação: {num1} * {num2} = {num1 * num2}\"\n",
    "    msge += f\"\\nDivisão: {num1} / {num2} = {num1 / num2}\"\n",
    "    msge += f\"\\nResto: {num1} % {num2} = {num1 % num2}\"\n",
    "    return msge\n",
    "\n",
    "\n",
    "print(ex_01())"
   ]
  },
  {
   "cell_type": "markdown",
   "id": "6739bc44",
   "metadata": {},
   "source": [
    "2 - Solicitar um número e mostrar se ele é divisível por 5 e 7, utilizando o operador %."
   ]
  },
  {
   "cell_type": "code",
   "execution_count": null,
   "id": "718e92de",
   "metadata": {},
   "outputs": [
    {
     "name": "stdout",
     "output_type": "stream",
     "text": [
      "42 é divisível por 5? Não\n",
      "42 é divisível por 7? Sim\n"
     ]
    }
   ],
   "source": [
    "def ex_02() -> str:\n",
    "    msge: str = \"\"\n",
    "    num3 = int(input(\"\\nInforme o primeiro número inteiro: \"))\n",
    "    msge = f\"{num3} é divisível por {5}? {'Sim' if num3 % 5 == 0 else 'Não'}\"\n",
    "    msge += f\"\\n{num3} é divisível por {7}? {'Sim' if num3 % 7 == 0 else 'Não'}\"\n",
    "    return msge\n",
    "\n",
    "\n",
    "print(ex_02())"
   ]
  },
  {
   "cell_type": "markdown",
   "id": "3670211a",
   "metadata": {},
   "source": [
    "3 - Criar uma função que receba um número e retorne se ele é positivo,\n",
    "    negativo ou zero."
   ]
  },
  {
   "cell_type": "code",
   "execution_count": 4,
   "id": "a966f291",
   "metadata": {},
   "outputs": [
    {
     "name": "stdout",
     "output_type": "stream",
     "text": [
      "O número 25 é positivo.\n"
     ]
    }
   ],
   "source": [
    "def ex_03() -> str:\n",
    "    msge: str = None\n",
    "    num4 = int(input(\"\\nInforme o primeiro número inteiro: \"))\n",
    "    if num4 > 0:\n",
    "        msge = f\"O número {num4} é positivo.\"\n",
    "    elif num4 < 0:\n",
    "        msge = f\"O número {num4} é negativo.\"\n",
    "    else:\n",
    "        msge = f\"O número {num4} é igual a 0.\"\n",
    "    return msge\n",
    "\n",
    "\n",
    "print(ex_03())"
   ]
  },
  {
   "cell_type": "markdown",
   "id": "43bd72b4",
   "metadata": {},
   "source": [
    "4 - Solicitar dois números e verificar se o primeiro é maior que o segundo\n",
    "    e se a soma deles é maior que 100.\n"
   ]
  },
  {
   "cell_type": "code",
   "execution_count": 6,
   "id": "10f3a35b",
   "metadata": {},
   "outputs": [
    {
     "name": "stdout",
     "output_type": "stream",
     "text": [
      "42 é > 24\n",
      "24 + 42 não é > 100\n"
     ]
    }
   ],
   "source": [
    "def ex_04() -> str:\n",
    "    msge: str = \"\"\n",
    "\n",
    "    num5 = int(input(\"\\nInforme o primeiro número inteiro: \"))\n",
    "    num6 = int(input(\"Informe o primeiro número inteiro: \"))\n",
    "    soma = num5 + num6\n",
    "\n",
    "    msge = f\"{num5} é > {num6}\" if num5 > num6 else f\"{num6} é > {num5}\"\n",
    "    msge += (\n",
    "        f\"\\n{num5} + {num6} é > 100\" if soma > 100 else f\"\\n{num6} + {num5} não é > 100\"\n",
    "    )\n",
    "    return msge\n",
    "\n",
    "\n",
    "print(ex_04())"
   ]
  },
  {
   "cell_type": "markdown",
   "id": "50519a26",
   "metadata": {},
   "source": [
    "5 - Criar um programa que utilize o match case para determinar a estação do\n",
    "    ano com base no número do mês (1 a 12)."
   ]
  },
  {
   "cell_type": "code",
   "execution_count": 7,
   "id": "3c523e95",
   "metadata": {},
   "outputs": [
    {
     "name": "stdout",
     "output_type": "stream",
     "text": [
      "Mês 5: Você está no OUTONO\n"
     ]
    }
   ],
   "source": [
    "def ex_05() -> str:\n",
    "    estacao: str = \"\"\n",
    "\n",
    "    while True:\n",
    "        mes = int(input(\"\\nInforme o mês atual: \"))\n",
    "        match mes:\n",
    "            case 1 | 2 | 3:\n",
    "                estacao = f\"Mês {mes}: Você está no VERÃO\"\n",
    "                break\n",
    "            case 4 | 5 | 6:\n",
    "                estacao = f\"Mês {mes}: Você está no OUTONO\"\n",
    "                break\n",
    "            case 7 | 8 | 9:\n",
    "                estacao = f\"Mês {mes}: Você está no INVERNO\"\n",
    "                break\n",
    "            case 10 | 11 | 12:\n",
    "                estacao = f\"Mês {mes}: Você está na PRIMAVERA\"\n",
    "                break\n",
    "            case _:\n",
    "                input(f\"\\nOpção inválida. Pressione enter para continuar...\")\n",
    "    return estacao\n",
    "\n",
    "\n",
    "print(ex_05())"
   ]
  }
 ],
 "metadata": {
  "kernelspec": {
   "display_name": "venv",
   "language": "python",
   "name": "python3"
  },
  "language_info": {
   "codemirror_mode": {
    "name": "ipython",
    "version": 3
   },
   "file_extension": ".py",
   "mimetype": "text/x-python",
   "name": "python",
   "nbconvert_exporter": "python",
   "pygments_lexer": "ipython3",
   "version": "3.12.9"
  }
 },
 "nbformat": 4,
 "nbformat_minor": 5
}

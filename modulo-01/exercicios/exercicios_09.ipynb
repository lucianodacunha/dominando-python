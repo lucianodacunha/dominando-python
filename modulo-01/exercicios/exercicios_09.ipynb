{
 "cells": [
  {
   "cell_type": "markdown",
   "id": "ca065a38",
   "metadata": {},
   "source": [
    "1. Criar um ambiente virtual com venv, instalar a biblioteca requests e fazer uma \n",
    "requisição para a API https://jsonplaceholder.typicode.com/posts/1, \n",
    "salvando a resposta no arquivo api_data.json."
   ]
  },
  {
   "cell_type": "code",
   "execution_count": null,
   "id": "d1cee514",
   "metadata": {
    "vscode": {
     "languageId": "shellscript"
    }
   },
   "outputs": [],
   "source": [
    "# Configuração do ambiente\n",
    "python -m venv venv\n",
    "source venv/bin/activate\n",
    "pip install requests"
   ]
  },
  {
   "cell_type": "code",
   "execution_count": null,
   "id": "bd50d875",
   "metadata": {},
   "outputs": [],
   "source": [
    "import requests\n",
    "from requests import Response\n",
    "\n",
    "url: str = \"https://jsonplaceholder.typicode.com/posts/1\"\n",
    "resposta: Response = requests.get(url)\n",
    "with open(\"../exercicios/dados_api.json\", \"w\") as arquivo:\n",
    "    arquivo.write(resposta.text)"
   ]
  },
  {
   "cell_type": "markdown",
   "id": "d6785ee1",
   "metadata": {},
   "source": [
    "2. Separar o código em dois módulos: um para fazer a requisição e outro para \n",
    "manipular o arquivo."
   ]
  },
  {
   "cell_type": "code",
   "execution_count": null,
   "id": "bffa99a8",
   "metadata": {},
   "outputs": [],
   "source": [
    "# modulo requisicao.py\n",
    "\n",
    "import requests\n",
    "from requests import Response\n",
    "\n",
    "def get() -> str: \n",
    "    url: str = \"https://jsonplaceholder.typicode.com/posts/1\"\n",
    "    return requests.get(url).text"
   ]
  },
  {
   "cell_type": "code",
   "execution_count": null,
   "id": "dc34b48a",
   "metadata": {},
   "outputs": [],
   "source": [
    "# main.py\n",
    "\n",
    "from requisicao import get\n",
    "\n",
    "def main() -> None:\n",
    "    with open(\"../exercicios/dados_api.json\", \"w\") as arquivo:\n",
    "    arquivo.write(get())\n",
    "\n",
    "\n",
    "if __name__ == \"__main__\":\n",
    "    main()"
   ]
  },
  {
   "cell_type": "markdown",
   "id": "61c31b9d",
   "metadata": {},
   "source": [
    "3. Utilizar o Context Manager (with) para garantir que o arquivo seja aberto e \n",
    "fechado corretamente durante a gravação do conteúdo."
   ]
  },
  {
   "cell_type": "code",
   "execution_count": null,
   "id": "d8f08abc",
   "metadata": {},
   "outputs": [],
   "source": [
    "with open(\"../exercicios/arquivo_com_with.json\", \"w\") as arquivo:\n",
    "    arquivo.write(\"Utilizando Context Manager\")"
   ]
  },
  {
   "cell_type": "markdown",
   "id": "33c7fb4a",
   "metadata": {},
   "source": [
    "4. Criar um módulo Python com uma função que some todos os elementos de \n",
    "uma lista e importar essa função em outro script para utilizá-la."
   ]
  },
  {
   "cell_type": "code",
   "execution_count": null,
   "id": "c76016e5",
   "metadata": {},
   "outputs": [],
   "source": [
    "# módulo operacoes.py\n",
    "def somar(lista: list[int]) -> int:\n",
    "    return sum(lista)"
   ]
  },
  {
   "cell_type": "code",
   "execution_count": null,
   "id": "37923866",
   "metadata": {},
   "outputs": [],
   "source": [
    "# módulo main.py\n",
    "from operacoes import somar\n",
    "\n",
    "def main() -> None:\n",
    "    lista: list[int] = [1,2,3,4,5,6]\n",
    "    print(f\"Somatório dos elementos da lista: {somar(lista)}\")\n",
    "\n",
    "\n",
    "if __name__ == \"__main__\":\n",
    "    main()\n"
   ]
  }
 ],
 "metadata": {
  "kernelspec": {
   "display_name": "venv",
   "language": "python",
   "name": "python3"
  },
  "language_info": {
   "codemirror_mode": {
    "name": "ipython",
    "version": 3
   },
   "file_extension": ".py",
   "mimetype": "text/x-python",
   "name": "python",
   "nbconvert_exporter": "python",
   "pygments_lexer": "ipython3",
   "version": "3.12.9"
  }
 },
 "nbformat": 4,
 "nbformat_minor": 5
}

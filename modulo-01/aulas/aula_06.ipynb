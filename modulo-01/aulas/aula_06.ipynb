{
 "cells": [
  {
   "cell_type": "markdown",
   "id": "1db1ca6f",
   "metadata": {},
   "source": [
    "## Objetivo\n",
    "\n",
    "Compreender os conceitos da programação orientada a objetos, utilizando seus recursos como classes, objetos, atributos e métodos."
   ]
  },
  {
   "cell_type": "markdown",
   "id": "a5747aa3",
   "metadata": {
    "vscode": {
     "languageId": "plaintext"
    }
   },
   "source": [
    "### O que é POO\n",
    "\n",
    "organizar o código em estruturas chamadas classes, que possuem características como atributos e métodos.\n",
    "\n",
    "Além disso, outros princípios podem ser aplicados na POO, são eles:\n",
    "- **Abstração**: focar apenas no essencial\n",
    "- **Encapsulamento**: proteger os atributos das classes expondo somente o necessário\n",
    "- **Herança**: hierarquia de classes, visando o aproveitamento de código\n",
    "- **Polimorfismo**: comportamento distinto entre classes que fazem parte da mesma hierarquia."
   ]
  },
  {
   "cell_type": "markdown",
   "id": "e3516a49",
   "metadata": {},
   "source": [
    "- **criar uma classe**: escrever um molde, uma receita para criar objetos."
   ]
  },
  {
   "cell_type": "code",
   "execution_count": 1,
   "id": "2802bf99",
   "metadata": {},
   "outputs": [],
   "source": [
    "class Carro:\n",
    "    def __init__(self, marca: str, modelo: str, ano: int) -> None:\n",
    "        self.marca = marca\n",
    "        self.modelo = modelo\n",
    "        self.ano = ano\n",
    "\n",
    "    def info(self) -> str:\n",
    "        return f\"Marca: {self.marca}, Modelo: {self.modelo}, Ano: {self.ano}\""
   ]
  },
  {
   "cell_type": "markdown",
   "id": "68b881dc",
   "metadata": {},
   "source": [
    "- **instanciar um objeto**"
   ]
  },
  {
   "cell_type": "code",
   "execution_count": 2,
   "id": "7e348f61",
   "metadata": {},
   "outputs": [
    {
     "data": {
      "text/plain": [
       "'Marca: VW, Modelo: Golf, Ano: 2023'"
      ]
     },
     "execution_count": 2,
     "metadata": {},
     "output_type": "execute_result"
    }
   ],
   "source": [
    "carro = Carro(\"VW\", \"Golf\", \"2023\")\n",
    "carro.info()"
   ]
  },
  {
   "cell_type": "markdown",
   "id": "18aca874",
   "metadata": {},
   "source": [
    "- **método de instância**: acessam e manipulam atributos da instância"
   ]
  },
  {
   "cell_type": "code",
   "execution_count": 3,
   "id": "4002114d",
   "metadata": {},
   "outputs": [],
   "source": [
    "class Pessoa:\n",
    "    def __init__(self, nome) -> None:\n",
    "        self.nome = nome\n",
    "\n",
    "    def saudacao(self) -> str:\n",
    "        return f\"Olá {self.nome}\""
   ]
  },
  {
   "cell_type": "markdown",
   "id": "8b5d9cfc",
   "metadata": {},
   "source": [
    "- **método de classe**: trabalham com a classe, pois precisam acessar ou alterar algo na classe."
   ]
  },
  {
   "cell_type": "code",
   "execution_count": null,
   "id": "48fff142",
   "metadata": {},
   "outputs": [],
   "source": [
    "class Conta:\n",
    "    quantidade: int = 0\n",
    "\n",
    "    def __init__(self, numero: str) -> None:\n",
    "        self.numero = numero\n",
    "        Conta.quantidade += 1\n",
    "\n",
    "    @classmethod\n",
    "    def total_contas(cls):\n",
    "        return f\"Quantidade de contas: {cls.quantidade}\""
   ]
  },
  {
   "cell_type": "markdown",
   "id": "79f3a196",
   "metadata": {},
   "source": [
    "- **método estático**: só executam uma lógica independente da classe"
   ]
  },
  {
   "cell_type": "code",
   "execution_count": null,
   "id": "e41d8e3b",
   "metadata": {},
   "outputs": [],
   "source": [
    "class Calculadora:\n",
    "    @staticmethod\n",
    "    def somar(a, b) -> int:\n",
    "        return a + b"
   ]
  },
  {
   "cell_type": "markdown",
   "id": "5e11326b",
   "metadata": {},
   "source": [
    "- **atributos de instância**: assim como os métodos, os atributos de instância pertencem à instância"
   ]
  },
  {
   "cell_type": "code",
   "execution_count": null,
   "id": "7b0a50c0",
   "metadata": {},
   "outputs": [],
   "source": [
    "class Livro:\n",
    "    def __init__(self, titulo: str) -> None:\n",
    "        self.titulo = titulo # atributos de instância"
   ]
  },
  {
   "cell_type": "markdown",
   "id": "376bbed3",
   "metadata": {},
   "source": [
    "- **atributos de classe**: assim como os métodos, os atributos de classe pertencem à classe"
   ]
  },
  {
   "cell_type": "code",
   "execution_count": null,
   "id": "ef10cc5b",
   "metadata": {},
   "outputs": [],
   "source": [
    "class Livro:\n",
    "    serial: int = 0\n",
    "    def __init__(self, titulo: str) -> None:\n",
    "        self.titulo = titulo # atributos de instância\n",
    "        Livro.serial += 1  # atributos de classe"
   ]
  }
 ],
 "metadata": {
  "kernelspec": {
   "display_name": "venv",
   "language": "python",
   "name": "python3"
  },
  "language_info": {
   "codemirror_mode": {
    "name": "ipython",
    "version": 3
   },
   "file_extension": ".py",
   "mimetype": "text/x-python",
   "name": "python",
   "nbconvert_exporter": "python",
   "pygments_lexer": "ipython3",
   "version": "3.12.9"
  }
 },
 "nbformat": 4,
 "nbformat_minor": 5
}

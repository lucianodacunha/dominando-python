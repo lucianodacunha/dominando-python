{
 "cells": [
  {
   "cell_type": "markdown",
   "id": "4f4b83b9",
   "metadata": {},
   "source": [
    "## Objetivo\n",
    "\n",
    "Aprender a utilizar libs externas, criar módulos e gerenciar recursos com Context Managers.\n",
    "\n",
    "### Usando bibliotecas externas:\n",
    "\n",
    "Instalando a lib requests:"
   ]
  },
  {
   "cell_type": "code",
   "execution_count": null,
   "id": "d510121d",
   "metadata": {
    "vscode": {
     "languageId": "shellscript"
    }
   },
   "outputs": [],
   "source": [
    "pip install requests"
   ]
  },
  {
   "cell_type": "markdown",
   "id": "3ccf76f4",
   "metadata": {
    "vscode": {
     "languageId": "shellscript"
    }
   },
   "source": [
    "Fazendo uma requisição HTTP:"
   ]
  },
  {
   "cell_type": "code",
   "execution_count": 1,
   "id": "2a891da0",
   "metadata": {},
   "outputs": [
    {
     "name": "stdout",
     "output_type": "stream",
     "text": [
      "{\n",
      "  \"userId\": 1,\n",
      "  \"id\": 1,\n",
      "  \"title\": \"sunt aut facere repellat provident occaecati excepturi optio reprehenderit\",\n",
      "  \"body\": \"quia et suscipit\\nsuscipit recusandae consequuntur expedita et cum\\nreprehenderit molestiae ut ut quas totam\\nnostrum rerum est autem sunt rem eveniet architecto\"\n",
      "}\n"
     ]
    }
   ],
   "source": [
    "import requests\n",
    "\n",
    "\n",
    "url = \"https://jsonplaceholder.typicode.com/posts/1\"\n",
    "\n",
    "resposta = requests.get(url)\n",
    "\n",
    "print(resposta.text)"
   ]
  },
  {
   "cell_type": "code",
   "execution_count": null,
   "id": "0881d90c",
   "metadata": {},
   "outputs": [],
   "source": [
    "### Gerenciando dependências\n",
    "\n",
    "Criando um ambiente virtual:"
   ]
  },
  {
   "cell_type": "code",
   "execution_count": null,
   "id": "7e9f783a",
   "metadata": {
    "vscode": {
     "languageId": "shellscript"
    }
   },
   "outputs": [],
   "source": [
    "python -m venv ambientevirtual"
   ]
  },
  {
   "cell_type": "markdown",
   "id": "1059965e",
   "metadata": {
    "vscode": {
     "languageId": "shellscript"
    }
   },
   "source": [
    "Ativando o ambiente virtual:"
   ]
  },
  {
   "cell_type": "code",
   "execution_count": null,
   "id": "e4e9578e",
   "metadata": {
    "vscode": {
     "languageId": "shellscript"
    }
   },
   "outputs": [],
   "source": [
    "source meuambiente/bin/activate"
   ]
  },
  {
   "cell_type": "markdown",
   "id": "adc9f696",
   "metadata": {},
   "source": [
    "Instalando uma lib dentro do ambiente virtual:"
   ]
  },
  {
   "cell_type": "code",
   "execution_count": null,
   "id": "e6bdbf74",
   "metadata": {
    "vscode": {
     "languageId": "shellscript"
    }
   },
   "outputs": [],
   "source": [
    "pip install requests"
   ]
  },
  {
   "cell_type": "markdown",
   "id": "cbbfad60",
   "metadata": {},
   "source": [
    "Podemos utilizar um arquivo chamado requirements.txt para armazenam o conjunto atual de um ambiente virtual, facilitar sua reconstrução posteriormente.\n",
    "\n",
    "- Exportando para o `requirements.txt`"
   ]
  },
  {
   "cell_type": "code",
   "execution_count": null,
   "id": "cde041fb",
   "metadata": {
    "vscode": {
     "languageId": "shellscript"
    }
   },
   "outputs": [],
   "source": [
    "pip freeze > requirements.txt"
   ]
  },
  {
   "cell_type": "markdown",
   "id": "e2419edd",
   "metadata": {
    "vscode": {
     "languageId": "shellscript"
    }
   },
   "source": [
    "- Importando do `requirements.txt`"
   ]
  },
  {
   "cell_type": "code",
   "execution_count": null,
   "id": "8a80c1f3",
   "metadata": {
    "vscode": {
     "languageId": "shellscript"
    }
   },
   "outputs": [],
   "source": [
    "pip install -r requirements.txt"
   ]
  },
  {
   "cell_type": "markdown",
   "id": "d1efb2ed",
   "metadata": {},
   "source": [
    "### Utilizando módulos\n",
    "\n",
    "Módulos são utilizados para organizar os códigos relacionados em uma aplicação.\n",
    "\n",
    "Por exemplo, dentro do arquivo `funcoes.py` é possível guardar a seguinte função:"
   ]
  },
  {
   "cell_type": "code",
   "execution_count": null,
   "id": "e0381d40",
   "metadata": {},
   "outputs": [],
   "source": [
    "def somar(a: int, b: int) -> int:\n",
    "    return a + b"
   ]
  },
  {
   "cell_type": "markdown",
   "id": "cff94d11",
   "metadata": {},
   "source": [
    "Dentro do arquivo `main.py` é possível importar a função de dentro do arquivo `funcoes.py`.\n",
    "\n",
    "Com isso, é possível modularizar funcionalidades, facilitando assim o reuso e evitando a duplicação de código."
   ]
  },
  {
   "cell_type": "code",
   "execution_count": null,
   "id": "6f2a0261",
   "metadata": {},
   "outputs": [],
   "source": [
    "from funcoes import soma\n",
    "\n",
    "def main() -> None:\n",
    "    print(somar(3, 3))"
   ]
  },
  {
   "cell_type": "markdown",
   "id": "45d801ec",
   "metadata": {},
   "source": [
    "### Context Manager\n",
    "\n",
    "Usando `with`para manipular arquivos de forma segura:"
   ]
  },
  {
   "cell_type": "code",
   "execution_count": null,
   "id": "9412126a",
   "metadata": {},
   "outputs": [],
   "source": [
    "with open(\"../exercicios/escrita.txt\", \"w\") as arquivo:\n",
    "    arquivo.write(\"Texto escrito com sucesso!\")"
   ]
  },
  {
   "cell_type": "markdown",
   "id": "fa590b23",
   "metadata": {},
   "source": [
    "Assim, o arquivo é fechado automaticamente, mesmo se ocorrer alguma exception.\n",
    "\n",
    "Vamos usar agora o Context Manager para salvar o retorno de uma API em um arquivo:"
   ]
  },
  {
   "cell_type": "code",
   "execution_count": 2,
   "id": "0aaf7a7d",
   "metadata": {},
   "outputs": [],
   "source": [
    "import requests\n",
    "\n",
    "url = \"https://jsonplaceholder.typicode.com/posts/1\"\n",
    "resposta = requests.get(url)\n",
    "\n",
    "with open(\"../exercicios/dados_api.json\", \"w\") as arquivo:\n",
    "    arquivo.write(resposta.text)"
   ]
  }
 ],
 "metadata": {
  "kernelspec": {
   "display_name": "venv",
   "language": "python",
   "name": "python3"
  },
  "language_info": {
   "codemirror_mode": {
    "name": "ipython",
    "version": 3
   },
   "file_extension": ".py",
   "mimetype": "text/x-python",
   "name": "python",
   "nbconvert_exporter": "python",
   "pygments_lexer": "ipython3",
   "version": "3.12.9"
  }
 },
 "nbformat": 4,
 "nbformat_minor": 5
}

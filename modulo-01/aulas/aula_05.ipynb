{
 "cells": [
  {
   "cell_type": "markdown",
   "id": "a112f50d",
   "metadata": {},
   "source": [
    "## Objetivo\n",
    "\n",
    "Entender como manipular as diferentes coleções em Pytho: lista, tupla, dicionário e conjunto.\n",
    "\n",
    "### list\n",
    "\n",
    "Coleções mutáveis\n",
    "\n",
    "- **criando uma lista**"
   ]
  },
  {
   "cell_type": "code",
   "execution_count": 33,
   "id": "88905869",
   "metadata": {},
   "outputs": [],
   "source": [
    "numeros = []\n",
    "numeros = list()\n",
    "numeros = [1, 2, 3, 4, 5, 6]"
   ]
  },
  {
   "cell_type": "markdown",
   "id": "5a8d51a5",
   "metadata": {},
   "source": [
    "- **acessando elementos**"
   ]
  },
  {
   "cell_type": "code",
   "execution_count": 34,
   "id": "9aeaaf8b",
   "metadata": {},
   "outputs": [
    {
     "name": "stdout",
     "output_type": "stream",
     "text": [
      "4\n"
     ]
    }
   ],
   "source": [
    "print(numeros[3])"
   ]
  },
  {
   "cell_type": "markdown",
   "id": "14ae9fed",
   "metadata": {},
   "source": [
    "- **modificando elementos**"
   ]
  },
  {
   "cell_type": "code",
   "execution_count": 35,
   "id": "5461f64c",
   "metadata": {},
   "outputs": [
    {
     "name": "stdout",
     "output_type": "stream",
     "text": [
      "[1, 2, 42, 4, 5, 6]\n"
     ]
    }
   ],
   "source": [
    "numeros[2] = 42\n",
    "print(numeros)"
   ]
  },
  {
   "cell_type": "markdown",
   "id": "195ea54f",
   "metadata": {},
   "source": [
    "- **adicionando elementos**: "
   ]
  },
  {
   "cell_type": "code",
   "execution_count": 36,
   "id": "a215be49",
   "metadata": {},
   "outputs": [
    {
     "name": "stdout",
     "output_type": "stream",
     "text": [
      "[1, 2, 42, 4, 5, 6, 100]\n"
     ]
    }
   ],
   "source": [
    "numeros.append(100)\n",
    "print(numeros)"
   ]
  },
  {
   "cell_type": "markdown",
   "id": "3a746316",
   "metadata": {},
   "source": [
    "### tuple\n",
    "\n",
    "Coleções imutáveis\n",
    "\n",
    "- **criando uma tupla**"
   ]
  },
  {
   "cell_type": "code",
   "execution_count": 37,
   "id": "669e828f",
   "metadata": {},
   "outputs": [],
   "source": [
    "numeros = ()\n",
    "numeros = tuple()\n",
    "numeros = (1, 2, 3, 4)"
   ]
  },
  {
   "cell_type": "markdown",
   "id": "3f4ed9af",
   "metadata": {},
   "source": [
    "- **acessando elementos**"
   ]
  },
  {
   "cell_type": "code",
   "execution_count": 38,
   "id": "6c325355",
   "metadata": {},
   "outputs": [
    {
     "name": "stdout",
     "output_type": "stream",
     "text": [
      "(1, 2, 3, 4)\n",
      "4\n"
     ]
    }
   ],
   "source": [
    "print(numeros)\n",
    "print(numeros[3])"
   ]
  },
  {
   "cell_type": "markdown",
   "id": "c4f7a5bc",
   "metadata": {},
   "source": [
    "### set\n",
    "\n",
    "Coleções não ordenadas e sem repetição\n",
    "\n",
    "- **criando um set**"
   ]
  },
  {
   "cell_type": "code",
   "execution_count": 39,
   "id": "422520e0",
   "metadata": {},
   "outputs": [],
   "source": [
    "numeros = set()\n",
    "numeros = {1, 2, 3, 4, 5}"
   ]
  },
  {
   "cell_type": "markdown",
   "id": "2879dc68",
   "metadata": {},
   "source": [
    "- **adicionando elementos**"
   ]
  },
  {
   "cell_type": "code",
   "execution_count": 40,
   "id": "1d5d4881",
   "metadata": {},
   "outputs": [
    {
     "name": "stdout",
     "output_type": "stream",
     "text": [
      "{1, 2, 3, 4, 5, 42}\n"
     ]
    }
   ],
   "source": [
    "numeros.add(42)\n",
    "print(numeros)"
   ]
  },
  {
   "cell_type": "markdown",
   "id": "cec14b5f",
   "metadata": {},
   "source": [
    "## dict\n",
    "\n",
    "Coleções de pares chave-valor\n",
    "\n",
    "- **criando um dict**"
   ]
  },
  {
   "cell_type": "code",
   "execution_count": 41,
   "id": "d867c42b",
   "metadata": {},
   "outputs": [],
   "source": [
    "numeros = {} # dict vazio\n",
    "numeros = dict() # dict vazio com o objeto\n",
    "numeros = {1: \"um\", 2: \"dois\" , 3: \"tres\"}"
   ]
  },
  {
   "cell_type": "markdown",
   "id": "3e82ad34",
   "metadata": {},
   "source": [
    "- **acessando elementos**: chaves"
   ]
  },
  {
   "cell_type": "code",
   "execution_count": 42,
   "id": "ef77df29",
   "metadata": {},
   "outputs": [
    {
     "name": "stdout",
     "output_type": "stream",
     "text": [
      "dict_keys([1, 2, 3])\n"
     ]
    }
   ],
   "source": [
    "print(numeros.keys())"
   ]
  },
  {
   "cell_type": "markdown",
   "id": "e4af1d9b",
   "metadata": {},
   "source": [
    "- **acessando elementos**: valores"
   ]
  },
  {
   "cell_type": "code",
   "execution_count": 43,
   "id": "881b64b4",
   "metadata": {},
   "outputs": [
    {
     "name": "stdout",
     "output_type": "stream",
     "text": [
      "dict_values(['um', 'dois', 'tres'])\n"
     ]
    }
   ],
   "source": [
    "print(numeros.values())"
   ]
  },
  {
   "cell_type": "markdown",
   "id": "2199b91e",
   "metadata": {},
   "source": [
    "- **acessando elementos**: chaves e valores"
   ]
  },
  {
   "cell_type": "code",
   "execution_count": 44,
   "id": "8192ce9f",
   "metadata": {},
   "outputs": [
    {
     "name": "stdout",
     "output_type": "stream",
     "text": [
      "dict_items([(1, 'um'), (2, 'dois'), (3, 'tres')])\n"
     ]
    }
   ],
   "source": [
    "print(numeros.items())"
   ]
  },
  {
   "cell_type": "markdown",
   "id": "af7f0eae",
   "metadata": {},
   "source": [
    "- **acessando elementos**: valores através de chaves"
   ]
  },
  {
   "cell_type": "code",
   "execution_count": 45,
   "id": "c6eeb67c",
   "metadata": {},
   "outputs": [
    {
     "name": "stdout",
     "output_type": "stream",
     "text": [
      "dois\n"
     ]
    }
   ],
   "source": [
    "print(numeros[2])"
   ]
  }
 ],
 "metadata": {
  "kernelspec": {
   "display_name": "venv",
   "language": "python",
   "name": "python3"
  },
  "language_info": {
   "codemirror_mode": {
    "name": "ipython",
    "version": 3
   },
   "file_extension": ".py",
   "mimetype": "text/x-python",
   "name": "python",
   "nbconvert_exporter": "python",
   "pygments_lexer": "ipython3",
   "version": "3.12.9"
  }
 },
 "nbformat": 4,
 "nbformat_minor": 5
}

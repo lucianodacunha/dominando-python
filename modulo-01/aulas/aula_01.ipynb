{
 "cells": [
  {
   "cell_type": "markdown",
   "id": "044bd482",
   "metadata": {},
   "source": [
    "## Objetivo \n",
    "\n",
    "Compreender os princípios básicos da lógica de programação, manipular variáveis e\n",
    "tipos de dados, e aprender a capturar e exibir informações com Python.\n"
   ]
  },
  {
   "cell_type": "markdown",
   "id": "b011ef53",
   "metadata": {},
   "source": [
    "### Primeiros passos\n",
    "\n",
    "Python é tipagem dinâmica, onde não existe a obritóriedade de declarar os tipos."
   ]
  },
  {
   "cell_type": "code",
   "execution_count": 3,
   "id": "6d1e706e",
   "metadata": {},
   "outputs": [],
   "source": [
    "curso = \"Python\"\n",
    "duracao = 3\n",
    "nota = 10.0\n",
    "aprovado = True"
   ]
  },
  {
   "cell_type": "markdown",
   "id": "ace5da59",
   "metadata": {},
   "source": [
    "Porém, nas versões mais recentes é recomendável utilizar o typing para manter uma melhor legibilidade do código."
   ]
  },
  {
   "cell_type": "code",
   "execution_count": 4,
   "id": "e733b9c8",
   "metadata": {},
   "outputs": [],
   "source": [
    "curso: str = \"Python\"\n",
    "duracao: int = 3\n",
    "nota: float = 10.0\n",
    "aprovado: bool = True"
   ]
  },
  {
   "cell_type": "markdown",
   "id": "5ba3325f",
   "metadata": {},
   "source": [
    "### Variáveis\n",
    "\n",
    "Guardam informações que podemos referenciar mais a frente no código."
   ]
  },
  {
   "cell_type": "code",
   "execution_count": 5,
   "id": "a18456bd",
   "metadata": {},
   "outputs": [],
   "source": [
    "produto: str = \"Caderno\"\n",
    "quantidade: int = 10\n",
    "preco: float = 15.89"
   ]
  },
  {
   "cell_type": "markdown",
   "id": "8b91f6e3",
   "metadata": {},
   "source": [
    "### Entrada, processamento e saída:\n",
    "\n",
    "Capturando entrada do usuário."
   ]
  },
  {
   "cell_type": "code",
   "execution_count": 6,
   "id": "4b1e8881",
   "metadata": {},
   "outputs": [],
   "source": [
    "nome: str = input(\"Informe seu nome: \")\n",
    "idade: int = int(input(\"Informe sua idade: \"))"
   ]
  },
  {
   "cell_type": "markdown",
   "id": "75275ae1",
   "metadata": {},
   "source": [
    "Processamento"
   ]
  },
  {
   "cell_type": "code",
   "execution_count": 7,
   "id": "39f17a57",
   "metadata": {},
   "outputs": [],
   "source": [
    "mensagem: str = f\"Olá {nome}, você tem {idade} anos.\""
   ]
  },
  {
   "cell_type": "markdown",
   "id": "57a52234",
   "metadata": {},
   "source": [
    "EXibindo saída na tela"
   ]
  },
  {
   "cell_type": "code",
   "execution_count": 8,
   "id": "8633d149",
   "metadata": {},
   "outputs": [
    {
     "name": "stdout",
     "output_type": "stream",
     "text": [
      "Olá Luciano, você tem 20 anos.\n"
     ]
    }
   ],
   "source": [
    "print(mensagem)"
   ]
  }
 ],
 "metadata": {
  "kernelspec": {
   "display_name": "venv",
   "language": "python",
   "name": "python3"
  },
  "language_info": {
   "codemirror_mode": {
    "name": "ipython",
    "version": 3
   },
   "file_extension": ".py",
   "mimetype": "text/x-python",
   "name": "python",
   "nbconvert_exporter": "python",
   "pygments_lexer": "ipython3",
   "version": "3.12.9"
  }
 },
 "nbformat": 4,
 "nbformat_minor": 5
}

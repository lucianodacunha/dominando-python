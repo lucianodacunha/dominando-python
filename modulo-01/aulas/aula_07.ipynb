{
 "cells": [
  {
   "cell_type": "markdown",
   "id": "7a241c8d",
   "metadata": {},
   "source": [
    "## Objetivo\n",
    "\n",
    "Entender como aproveitar as funcionalidades de outras classes utilizando herança e polimorfismo. Por fim, entender o conceito de classes abstratas para definir interfaces e garantir que certas funcionalidades sejam implementadas nas subclasses.\n",
    "\n",
    "### Herança\n",
    "\n",
    "Uma classe pode herdar atributos e métodos de outra classe, evitando a repetição de código"
   ]
  },
  {
   "cell_type": "code",
   "execution_count": 1,
   "id": "e7fbba0e",
   "metadata": {},
   "outputs": [],
   "source": [
    "class Animal:\n",
    "    def __init__(self, nome) -> None:\n",
    "        self.nome = nome\n",
    "\n",
    "    def emitir_som(self) -> None:\n",
    "        print(\"Emitir um som\")\n",
    "\n",
    "\n",
    "class Cachorro(Animal):\n",
    "    def emitir_som(self):\n",
    "        print(\"O cachorro late\")\n",
    "\n",
    "\n",
    "class Gato(Animal):\n",
    "    def emitir_som(self):\n",
    "        print(\"O gato mia\")"
   ]
  },
  {
   "cell_type": "markdown",
   "id": "42d14b73",
   "metadata": {
    "vscode": {
     "languageId": "plaintext"
    }
   },
   "source": [
    "### Polimorfismo\n",
    "\n",
    "Capacidade de objetos que estão na mesma hierarquia de herança, realizar comportamentos distintos."
   ]
  },
  {
   "cell_type": "code",
   "execution_count": 2,
   "id": "4c7b73b4",
   "metadata": {},
   "outputs": [
    {
     "name": "stdout",
     "output_type": "stream",
     "text": [
      "O cachorro late\n",
      "O gato mia\n"
     ]
    }
   ],
   "source": [
    "animais: list[Animal] = [Cachorro(\"Rex\"), Gato(\"Felix\")]\n",
    "\n",
    "for animal in animais:\n",
    "    animal.emitir_som()"
   ]
  },
  {
   "cell_type": "markdown",
   "id": "210b1ab5",
   "metadata": {},
   "source": [
    "- **diferenças**:\n",
    "    - **sobrescrita de métodos**: substitui um método da classe pai\n",
    "    - **sobrecarga de métodos**: não é nativa em Python, mas simulada através de parâmetros opcionais"
   ]
  },
  {
   "cell_type": "markdown",
   "id": "d51029b1",
   "metadata": {},
   "source": [
    "### Classes abstratas\n",
    "\n",
    "Utilizadas para garantir que classes filhas implementem métodos obrigatórios."
   ]
  },
  {
   "cell_type": "code",
   "execution_count": null,
   "id": "df211b06",
   "metadata": {},
   "outputs": [],
   "source": [
    "from abc import ABC, abstractmethod\n",
    "\n",
    "class Animal(ABC):\n",
    "    def __init__(self, nome) -> None:\n",
    "        self.nome = nome\n",
    "\n",
    "    # Marcação de método como abstrato\n",
    "    # não tem implementação, mas as subclases devem implementá-lo.\n",
    "    @abstractmethod\n",
    "    def emitir_som(self):\n",
    "        ...\n",
    "\n",
    "\n",
    "class Cachorro(Animal): # implementação é obritória\n",
    "    ...\n",
    "\n",
    "\n",
    "# não é possível a instanciação sem implementar o método abstratro\n",
    "# erro abaixo.\n",
    "# Além disso, a classe abstrata acima, não pode ser instanciada diretamente\n",
    "# Subclasses são obrigadas a implementar o método abstrato.\n",
    "cachorro: Animal = Cachorro(\"Rex\") "
   ]
  },
  {
   "cell_type": "code",
   "execution_count": null,
   "id": "b8a02af2",
   "metadata": {
    "vscode": {
     "languageId": "shellscript"
    }
   },
   "outputs": [],
   "source": [
    "TypeError                                 Traceback (most recent call last)\n",
    "Cell In[4], line 16\n",
    "     12 class Cachorro(Animal):\n",
    "     13     ...\n",
    "---> 16 cachorro: Animal = Cachorro(\"Rex\")\n",
    "\n",
    "TypeError: Can't instantiate abstract class Cachorro without an \n",
    "implementation for abstract method 'emitir_som'"
   ]
  },
  {
   "cell_type": "code",
   "execution_count": 5,
   "id": "107e3b2a",
   "metadata": {},
   "outputs": [],
   "source": [
    "from abc import ABC, abstractmethod\n",
    "\n",
    "class Animal(ABC):\n",
    "    def __init__(self, nome) -> None:\n",
    "        self.nome = nome\n",
    "\n",
    "    @abstractmethod\n",
    "    def emitir_som(self):\n",
    "        ...\n",
    "\n",
    "\n",
    "class Cachorro(Animal): # implementação é obritória\n",
    "    def emitir_som(self):\n",
    "        print(\"O cachorro late\")\n",
    "\n",
    "\n",
    "cachorro: Animal = Cachorro(\"Rex\")"
   ]
  }
 ],
 "metadata": {
  "kernelspec": {
   "display_name": "venv",
   "language": "python",
   "name": "python3"
  },
  "language_info": {
   "codemirror_mode": {
    "name": "ipython",
    "version": 3
   },
   "file_extension": ".py",
   "mimetype": "text/x-python",
   "name": "python",
   "nbconvert_exporter": "python",
   "pygments_lexer": "ipython3",
   "version": "3.12.9"
  }
 },
 "nbformat": 4,
 "nbformat_minor": 5
}

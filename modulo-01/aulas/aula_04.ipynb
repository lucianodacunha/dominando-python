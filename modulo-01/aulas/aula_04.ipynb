{
 "cells": [
  {
   "cell_type": "markdown",
   "id": "b1336f21",
   "metadata": {},
   "source": [
    "## Objetivo\n",
    "\n",
    "Entender como funciona as estruturas for e while para executar blocos de código repetidamente."
   ]
  },
  {
   "cell_type": "markdown",
   "id": "6e69a005",
   "metadata": {
    "vscode": {
     "languageId": "plaintext"
    }
   },
   "source": [
    "### for\n",
    "\n",
    "Utilizado para repetir uma ação um número definido de vezes. \n",
    "Geralmente percorrendo sequências como listas, textos ou intervalos.\n",
    "\n",
    "**Iterando sobre um range**:"
   ]
  },
  {
   "cell_type": "code",
   "execution_count": 2,
   "id": "b1ee6958",
   "metadata": {},
   "outputs": [
    {
     "name": "stdout",
     "output_type": "stream",
     "text": [
      "1 2 3 4 5 "
     ]
    }
   ],
   "source": [
    "for i in range(1, 6):\n",
    "    print(i, end=\" \")"
   ]
  },
  {
   "cell_type": "markdown",
   "id": "ded44580",
   "metadata": {},
   "source": [
    "**Iterando sobre uma lista**:"
   ]
  },
  {
   "cell_type": "code",
   "execution_count": null,
   "id": "33fcc490",
   "metadata": {},
   "outputs": [
    {
     "name": "stdout",
     "output_type": "stream",
     "text": [
      "pera uva banana manga "
     ]
    }
   ],
   "source": [
    "frutas = [\"pera\", \"uva\", \"banana\", \"manga\"]\n",
    "\n",
    "for fruta in frutas:\n",
    "    print(fruta, end=\" \")"
   ]
  },
  {
   "cell_type": "markdown",
   "id": "3804b0f6",
   "metadata": {},
   "source": [
    "**Iterando sobre um string**:"
   ]
  },
  {
   "cell_type": "code",
   "execution_count": 5,
   "id": "7cb5966c",
   "metadata": {},
   "outputs": [
    {
     "name": "stdout",
     "output_type": "stream",
     "text": [
      "P   Y   T   H   O   N   "
     ]
    }
   ],
   "source": [
    "palavra = \"Python\"\n",
    "\n",
    "for letra in palavra:\n",
    "    print(letra.upper(), end=\"   \")"
   ]
  },
  {
   "cell_type": "markdown",
   "id": "95a4394d",
   "metadata": {},
   "source": [
    "### while\n",
    "\n",
    "Repete um bloco de código enquanto um condição é verdadeira"
   ]
  },
  {
   "cell_type": "code",
   "execution_count": 8,
   "id": "cf0da264",
   "metadata": {},
   "outputs": [
    {
     "name": "stdout",
     "output_type": "stream",
     "text": [
      "1   2   3   4   5   "
     ]
    }
   ],
   "source": [
    "index = 1\n",
    "while index <= 5:\n",
    "    print(index, end=\"   \")\n",
    "    index += 1"
   ]
  },
  {
   "cell_type": "markdown",
   "id": "91777f35",
   "metadata": {},
   "source": [
    "### for x while\n",
    "\n",
    "- **for**: utilizado quando a quantidades de loops é conhecida\n",
    "- **while**: utilizado quando existe uma condição de parada"
   ]
  },
  {
   "cell_type": "markdown",
   "id": "095d357e",
   "metadata": {},
   "source": [
    "### Controle de fluxo: \n",
    "\n",
    "**break**: interrompe o loop"
   ]
  },
  {
   "cell_type": "code",
   "execution_count": 9,
   "id": "5fd8f159",
   "metadata": {},
   "outputs": [
    {
     "name": "stdout",
     "output_type": "stream",
     "text": [
      "1   2   3   4   5   "
     ]
    }
   ],
   "source": [
    "for i in range(1, 11):\n",
    "    if i > 5:\n",
    "        break\n",
    "    print(i, end=\"   \")"
   ]
  },
  {
   "cell_type": "markdown",
   "id": "d78db09a",
   "metadata": {},
   "source": [
    "**continue**: pula a interação atual"
   ]
  },
  {
   "cell_type": "code",
   "execution_count": 10,
   "id": "7a82c0dc",
   "metadata": {},
   "outputs": [
    {
     "name": "stdout",
     "output_type": "stream",
     "text": [
      "1   3   5   7   9   "
     ]
    }
   ],
   "source": [
    "for i in range(1, 11):\n",
    "    if i % 2 == 0:\n",
    "        continue\n",
    "    print(i, end=\"   \")"
   ]
  },
  {
   "cell_type": "markdown",
   "id": "be8920ff",
   "metadata": {},
   "source": [
    "### Loop sentinela\n",
    "\n",
    "Controlado por uma condição de parada que será fornecida pelo usuário"
   ]
  },
  {
   "cell_type": "code",
   "execution_count": 13,
   "id": "2d059265",
   "metadata": {},
   "outputs": [
    {
     "name": "stdout",
     "output_type": "stream",
     "text": [
      "Número mágico informado.\n"
     ]
    }
   ],
   "source": [
    "numero_magico = \"\"\n",
    "\n",
    "while numero_magico != \"5\":\n",
    "    numero_magico = input(\"Informe o numero mágico: \")\n",
    "\n",
    "print(\"Número mágico informado.\")"
   ]
  }
 ],
 "metadata": {
  "kernelspec": {
   "display_name": "venv",
   "language": "python",
   "name": "python3"
  },
  "language_info": {
   "codemirror_mode": {
    "name": "ipython",
    "version": 3
   },
   "file_extension": ".py",
   "mimetype": "text/x-python",
   "name": "python",
   "nbconvert_exporter": "python",
   "pygments_lexer": "ipython3",
   "version": "3.12.9"
  }
 },
 "nbformat": 4,
 "nbformat_minor": 5
}

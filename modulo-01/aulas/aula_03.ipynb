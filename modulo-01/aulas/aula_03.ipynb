{
 "cells": [
  {
   "cell_type": "markdown",
   "id": "163d2fc0",
   "metadata": {},
   "source": [
    "## Objetivo\n",
    "\n",
    "Aprender a utilizar o Git para controle de versão e o GitHub para colaboração em \n",
    "projetos.\n",
    "\n",
    "### O que é GIT\n",
    "\n",
    "Uma ferramenta de versionamento que permite criarmos um histórico de alterações \n",
    "no nosso app."
   ]
  },
  {
   "cell_type": "markdown",
   "id": "e5e9556a",
   "metadata": {},
   "source": [
    "### Inicializando um repositório\n",
    "\n",
    "Inicializa um novo repositório na pasta local."
   ]
  },
  {
   "cell_type": "code",
   "execution_count": null,
   "id": "93a8cb58",
   "metadata": {
    "vscode": {
     "languageId": "shellscript"
    }
   },
   "outputs": [],
   "source": [
    "git init"
   ]
  },
  {
   "cell_type": "markdown",
   "id": "f8c6c74d",
   "metadata": {},
   "source": [
    "### Comandos básicos do Git\n",
    "\n",
    "**add**: adiciona um arquivo no stage, pronto para ser versionado."
   ]
  },
  {
   "cell_type": "code",
   "execution_count": null,
   "id": "d2532f44",
   "metadata": {
    "vscode": {
     "languageId": "shellscript"
    }
   },
   "outputs": [],
   "source": [
    "git add arquivo.txt"
   ]
  },
  {
   "cell_type": "markdown",
   "id": "56d42ebb",
   "metadata": {},
   "source": [
    "**commit**: ponto da história, permitem registrar as mudanças ao longo do tempo."
   ]
  },
  {
   "cell_type": "code",
   "execution_count": null,
   "id": "12ef9f06",
   "metadata": {
    "vscode": {
     "languageId": "shellscript"
    }
   },
   "outputs": [],
   "source": [
    "git commit -m \"Mensagem descrevendo as mudanças\""
   ]
  },
  {
   "cell_type": "markdown",
   "id": "66674fd3",
   "metadata": {},
   "source": [
    "**status**: utilizado para verificar os estado atual do projeto. Exibe se há alguma modificação pendente de ser adicionada ao stage."
   ]
  },
  {
   "cell_type": "code",
   "execution_count": null,
   "id": "2acb6f7d",
   "metadata": {
    "vscode": {
     "languageId": "shellscript"
    }
   },
   "outputs": [],
   "source": [
    "git status"
   ]
  },
  {
   "cell_type": "markdown",
   "id": "7d612041",
   "metadata": {},
   "source": [
    "**log**: exibe o histórico e confere todos os commits feitos até o momento."
   ]
  },
  {
   "cell_type": "code",
   "execution_count": null,
   "id": "eade617a",
   "metadata": {
    "vscode": {
     "languageId": "shellscript"
    }
   },
   "outputs": [],
   "source": [
    "git log"
   ]
  },
  {
   "cell_type": "markdown",
   "id": "96403153",
   "metadata": {
    "vscode": {
     "languageId": "shellscript"
    }
   },
   "source": [
    "### Criando e conectando a um repositório GitHub - GH:\n",
    "\n",
    "- Após criar um repositório no Github;\n",
    "- e inicializar um repositório local;\n",
    "- crie um vinculo entre o repo local e o repo remoto no GH."
   ]
  },
  {
   "cell_type": "code",
   "execution_count": null,
   "id": "a2276cc8",
   "metadata": {
    "vscode": {
     "languageId": "shellscript"
    }
   },
   "outputs": [],
   "source": [
    "git remote add origin git@github.com:user-do-gh/nome-do-repo-no-gh.git"
   ]
  },
  {
   "cell_type": "markdown",
   "id": "7e8d7833",
   "metadata": {},
   "source": [
    "### Enviando alterações para o GH\n",
    "\n",
    "**push**: envie os novos commits para a branch main do repo no GH"
   ]
  },
  {
   "cell_type": "code",
   "execution_count": null,
   "id": "6e93baba",
   "metadata": {
    "vscode": {
     "languageId": "shellscript"
    }
   },
   "outputs": [],
   "source": [
    "git push origin main"
   ]
  },
  {
   "cell_type": "markdown",
   "id": "5d0c191d",
   "metadata": {},
   "source": [
    "### Clonando um repositório:\n",
    "\n",
    "**clone**: baixa uma cópia do repositório remoto, incluindo seu histórico para um repositório local."
   ]
  },
  {
   "cell_type": "code",
   "execution_count": null,
   "id": "52bb9a06",
   "metadata": {
    "vscode": {
     "languageId": "shellscript"
    }
   },
   "outputs": [],
   "source": [
    "git clone t@github.com:user-do-gh/nome-do-repo-no-gh.git"
   ]
  },
  {
   "cell_type": "markdown",
   "id": "5fbffbf7",
   "metadata": {
    "vscode": {
     "languageId": "shellscript"
    }
   },
   "source": [
    "### Atualizando o repositório local:\n",
    "\n",
    "**pull**: puxa atualizações existentes no repositório remoto, sincronizando o repositório local."
   ]
  },
  {
   "cell_type": "code",
   "execution_count": null,
   "id": "2c96650e",
   "metadata": {
    "vscode": {
     "languageId": "shellscript"
    }
   },
   "outputs": [],
   "source": [
    "git pull"
   ]
  },
  {
   "cell_type": "markdown",
   "id": "2ec06c78",
   "metadata": {},
   "source": [
    "### Gerenciando branches\n",
    "\n",
    "Branches são ramificações que nos permitem desenvolver em diferentes linhas do tempo, de forma isolada, sem comprometer a branch principal.\n",
    "\n",
    "**branch**: cria uma nova branch"
   ]
  },
  {
   "cell_type": "code",
   "execution_count": null,
   "id": "4c2fc029",
   "metadata": {
    "vscode": {
     "languageId": "shellscript"
    }
   },
   "outputs": [],
   "source": [
    "git branch nova-branch"
   ]
  },
  {
   "cell_type": "markdown",
   "id": "c0a0e2fa",
   "metadata": {
    "vscode": {
     "languageId": "shellscript"
    }
   },
   "source": [
    "**checkout**: mudar para outra branch"
   ]
  },
  {
   "cell_type": "code",
   "execution_count": null,
   "id": "6769c014",
   "metadata": {
    "vscode": {
     "languageId": "shellscript"
    }
   },
   "outputs": [],
   "source": [
    "git checkout nova-branch"
   ]
  },
  {
   "cell_type": "markdown",
   "id": "c84df30d",
   "metadata": {
    "vscode": {
     "languageId": "shellscript"
    }
   },
   "source": [
    "**merge**: mesclar uma nova branch com a principal"
   ]
  },
  {
   "cell_type": "code",
   "execution_count": null,
   "id": "991423f0",
   "metadata": {
    "vscode": {
     "languageId": "shellscript"
    }
   },
   "outputs": [],
   "source": [
    "git checkout main\n",
    "git merge nova-branch"
   ]
  },
  {
   "cell_type": "markdown",
   "id": "8c1c0375",
   "metadata": {
    "vscode": {
     "languageId": "shellscript"
    }
   },
   "source": [
    "### Resolvendo conflitos\n",
    "\n",
    "Se dois ou mais arquivos foram alterados de maneira incompatível, será necessário intervenção manual para resolvermos o conflito.\n",
    "\n",
    "Esse processo consisten em escolher a melhor alteração, editando o arquivo e salvando as alterações.\n",
    "\n",
    "Na sequência, realizar o commit da modificação."
   ]
  }
 ],
 "metadata": {
  "kernelspec": {
   "display_name": "venv",
   "language": "python",
   "name": "python3"
  },
  "language_info": {
   "name": "python",
   "version": "3.12.9"
  }
 },
 "nbformat": 4,
 "nbformat_minor": 5
}

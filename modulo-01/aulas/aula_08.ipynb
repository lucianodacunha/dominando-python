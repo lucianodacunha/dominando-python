{
 "cells": [
  {
   "cell_type": "markdown",
   "id": "3987beb3",
   "metadata": {},
   "source": [
    "## Objetivo\n",
    "\n",
    "Manipular arquivos de texto com Python, incluindo leitura, escrita e tratamento de exceções envolvendo essas operações.\n",
    "\n",
    "### Lendo arquivos\n",
    "\n",
    "- Abrindo um arquivo:"
   ]
  },
  {
   "cell_type": "code",
   "execution_count": null,
   "id": "50ee0e11",
   "metadata": {},
   "outputs": [],
   "source": [
    "arquivo = open(\"dados.txt\", \"r\")\n",
    "conteudo = arquivo.read()\n",
    "print(conteudo)\n",
    "arquivo.close()"
   ]
  },
  {
   "cell_type": "markdown",
   "id": "57bf499c",
   "metadata": {},
   "source": [
    "- modos de leitura:\n",
    "    - 'r' -> leitura\n",
    "    - 'w' -> escrita, apaga o conteúdo anterior\n",
    "    - 'a' -> acrescentar ao final\n",
    "\n",
    "- Lendo linhas:"
   ]
  },
  {
   "cell_type": "code",
   "execution_count": null,
   "id": "f6becb17",
   "metadata": {},
   "outputs": [],
   "source": [
    "arquivo = open(\"dados.txt\", \"r\")\n",
    "linha = arquivo.readline()\n",
    "print(linha)\n",
    "arquivo.close()"
   ]
  },
  {
   "cell_type": "markdown",
   "id": "dee92764",
   "metadata": {},
   "source": [
    "### Escrevendo arquivos:\n",
    "\n",
    "- Escrevendo novo conteúdo:"
   ]
  },
  {
   "cell_type": "code",
   "execution_count": null,
   "id": "3a72d545",
   "metadata": {},
   "outputs": [],
   "source": [
    "arquivo = open(\"dados.txt\" \"r\")\n",
    "arquivo.write(\"Escrevendo no arquivo\")\n",
    "arquivo.close()"
   ]
  },
  {
   "cell_type": "markdown",
   "id": "52fc47a4",
   "metadata": {},
   "source": [
    "- Adicionando conteúdo"
   ]
  },
  {
   "cell_type": "code",
   "execution_count": null,
   "id": "10089902",
   "metadata": {},
   "outputs": [],
   "source": [
    "arquivo = open(\"saida.txt\", \"a\")\n",
    "arquivo.write(\"Nova linha adicionada!\\n\")\n",
    "arquivo.close()"
   ]
  },
  {
   "cell_type": "markdown",
   "id": "e6180cc4",
   "metadata": {},
   "source": [
    "### Tratamento de exceções\n",
    "\n",
    "Utilizando try/except para tratar possíveis erros:"
   ]
  },
  {
   "cell_type": "code",
   "execution_count": null,
   "id": "4633523a",
   "metadata": {},
   "outputs": [],
   "source": [
    "try:\n",
    "    numero = int(input(\"Informe um número: \"))\n",
    "    resultado = 10 / numero\n",
    "except ZeroDivisionError as e:\n",
    "    print(\"Não é possível dividir por zero: \\n{e}.\")\n",
    "except ValueError as e:\n",
    "    print(\"Valor inválido: \\n{e}.\")\n",
    "else:\n",
    "    print(f\"Resultado: {resultado}\")\n",
    "finally:\n",
    "    print(\"Operação finalizada\")"
   ]
  },
  {
   "cell_type": "markdown",
   "id": "71b2410e",
   "metadata": {},
   "source": [
    "Mas também podemos criar exceções personalizadas"
   ]
  },
  {
   "cell_type": "code",
   "execution_count": 4,
   "id": "aa1cac5c",
   "metadata": {},
   "outputs": [],
   "source": [
    "class NotaAbaixoDeCincoError(Exception):\n",
    "    ..."
   ]
  },
  {
   "cell_type": "markdown",
   "id": "5bdbeda2",
   "metadata": {},
   "source": [
    "Para lançar uma exceção, utiliza-se o comando `raise`:"
   ]
  },
  {
   "cell_type": "code",
   "execution_count": 5,
   "id": "e144e2f3",
   "metadata": {},
   "outputs": [
    {
     "name": "stdout",
     "output_type": "stream",
     "text": [
      "Nota inferior a 5\n",
      "\n"
     ]
    }
   ],
   "source": [
    "try:\n",
    "    nota = int(input(\"Informe a nota: \"))\n",
    "    if nota < 5:\n",
    "        raise NotaAbaixoDeCincoError(\"Nota inferior a 5\")\n",
    "except NotaAbaixoDeCincoError as e:\n",
    "    print(f\"{e}\\n\")"
   ]
  }
 ],
 "metadata": {
  "kernelspec": {
   "display_name": "venv",
   "language": "python",
   "name": "python3"
  },
  "language_info": {
   "codemirror_mode": {
    "name": "ipython",
    "version": 3
   },
   "file_extension": ".py",
   "mimetype": "text/x-python",
   "name": "python",
   "nbconvert_exporter": "python",
   "pygments_lexer": "ipython3",
   "version": "3.12.9"
  }
 },
 "nbformat": 4,
 "nbformat_minor": 5
}

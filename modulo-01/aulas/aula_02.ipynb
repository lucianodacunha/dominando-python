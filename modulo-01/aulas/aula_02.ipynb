{
 "cells": [
  {
   "cell_type": "markdown",
   "id": "c7774772",
   "metadata": {},
   "source": [
    "## Objetivo \n",
    "\n",
    "Aprender a utilizar operadores aritméticos, relacionais e lógicos para criar expressões, \n",
    "usar estruturas condicionais (if, elif, else, match case) para controlar o fluxo do \n",
    "programa, e definir e utilizar funções em Python."
   ]
  },
  {
   "cell_type": "markdown",
   "id": "b11ee1c7",
   "metadata": {
    "vscode": {
     "languageId": "plaintext"
    }
   },
   "source": [
    "### Operadores aritméticos"
   ]
  },
  {
   "cell_type": "code",
   "execution_count": null,
   "id": "69112ddf",
   "metadata": {},
   "outputs": [],
   "source": [
    "soma = 5 + 3  # resultado: 8\n",
    "subtracao = 10 - 4  # resultado: 6\n",
    "multiplicacao = 2 * 6  # resultado: 12\n",
    "divisao = 8 / 2  # resultado: 4.0\n",
    "divisao_inteira = 9 // 2  # resultado: 4\n",
    "resto = 9 % 2  # resultado: 1\n",
    "potencia = 2**3  # resultado:"
   ]
  },
  {
   "cell_type": "markdown",
   "id": "4fbcf93f",
   "metadata": {},
   "source": [
    "### Operadores Relacionais:"
   ]
  },
  {
   "cell_type": "code",
   "execution_count": null,
   "id": "07095eb7",
   "metadata": {},
   "outputs": [],
   "source": [
    "print(5 == 5)  # True\n",
    "print(7 != 3)  # True\n",
    "print(4 < 10)  # True\n",
    "print(6 > 2)  # True\n",
    "print(3 <= 3)  # True\n",
    "print(9 >= 5)  # True"
   ]
  },
  {
   "cell_type": "markdown",
   "id": "566163a1",
   "metadata": {},
   "source": [
    "### Operadores Lógicos:"
   ]
  },
  {
   "cell_type": "code",
   "execution_count": null,
   "id": "75bc4617",
   "metadata": {},
   "outputs": [],
   "source": [
    "print(True and False)  # False\n",
    "print(True or False)  # True\n",
    "print(not True)  # False"
   ]
  },
  {
   "cell_type": "markdown",
   "id": "1adeb517",
   "metadata": {},
   "source": [
    "### Estruturas de Decisão:"
   ]
  },
  {
   "cell_type": "code",
   "execution_count": null,
   "id": "7f587a97",
   "metadata": {},
   "outputs": [],
   "source": [
    "idade = int(input(\"Digite sua idade: \"))\n",
    "if idade < 18:\n",
    "    print(\"Menor de idade.\")\n",
    "elif idade == 18:\n",
    "    print(\"Tem exatamente 18 anos.\")\n",
    "else:\n",
    "    print(\"Maior de idade.\")"
   ]
  },
  {
   "cell_type": "markdown",
   "id": "d504b797",
   "metadata": {},
   "source": [
    "### Combinando Condições:"
   ]
  },
  {
   "cell_type": "code",
   "execution_count": null,
   "id": "fcbe722f",
   "metadata": {},
   "outputs": [],
   "source": [
    "nota = float(input(\"Digite sua nota: \"))\n",
    "if nota >= 7 and nota <= 10:\n",
    "    print(\"Aprovado!\")\n",
    "else:\n",
    "    print(\"Reprovado ou nota inválida.\")"
   ]
  },
  {
   "cell_type": "markdown",
   "id": "f84489a3",
   "metadata": {},
   "source": [
    "### match case:"
   ]
  },
  {
   "cell_type": "code",
   "execution_count": null,
   "id": "729a1ee2",
   "metadata": {},
   "outputs": [],
   "source": [
    "mes = int(input(\"Digite o número do mês (1 a 12): \"))\n",
    "match mes:\n",
    "    case 12 | 1 | 2:\n",
    "        print(\"Verão\")\n",
    "    case 3 | 4 | 5:\n",
    "        print(\"Outono\")\n",
    "    case 6 | 7 | 8:\n",
    "        print(\"Inverno\")\n",
    "    case 9 | 10 | 11:\n",
    "        print(\"Primavera\")\n",
    "    case _:\n",
    "        print(\"Mês inválido.\")"
   ]
  },
  {
   "cell_type": "markdown",
   "id": "f4367806",
   "metadata": {},
   "source": [
    "### Funções\n",
    "\n",
    "Definindo uma função simples"
   ]
  },
  {
   "cell_type": "code",
   "execution_count": null,
   "id": "9a4542e0",
   "metadata": {},
   "outputs": [],
   "source": [
    "def dizer_ola():\n",
    "    print(\"Olá, seja bem-vindo!\")"
   ]
  },
  {
   "cell_type": "markdown",
   "id": "341ff0a6",
   "metadata": {},
   "source": [
    "Função com parâmetro"
   ]
  },
  {
   "cell_type": "code",
   "execution_count": null,
   "id": "aef69b05",
   "metadata": {},
   "outputs": [],
   "source": [
    "def dobrar(numero):\n",
    "    return numero * 2\n",
    "\n",
    "\n",
    "resultado = dobrar(5)\n",
    "print(resultado)  # Resultado: 10"
   ]
  },
  {
   "cell_type": "markdown",
   "id": "69dc3fd8",
   "metadata": {},
   "source": [
    "Funções são utilizadas para modularizar e organizar o código."
   ]
  }
 ],
 "metadata": {
  "language_info": {
   "name": "python"
  }
 },
 "nbformat": 4,
 "nbformat_minor": 5
}
